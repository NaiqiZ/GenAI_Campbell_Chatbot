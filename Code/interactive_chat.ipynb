{
 "cells": [
  {
   "cell_type": "code",
   "execution_count": 0,
   "metadata": {
    "application/vnd.databricks.v1+cell": {
     "cellMetadata": {
      "byteLimit": 2048000,
      "rowLimit": 10000
     },
     "inputWidgets": {},
     "nuid": "d46c0895-967a-460d-ab6a-f7d1f8ff2213",
     "showTitle": false,
     "tableResultSettingsMap": {},
     "title": ""
    }
   },
   "outputs": [
    {
     "name": "stdout",
     "output_type": "stream",
     "text": [
      "Collecting mlflow==2.21.2 (from -r requirements.txt (line 1))\n",
      "  Obtaining dependency information for mlflow==2.21.2 from https://files.pythonhosted.org/packages/72/9c/08620b82d822eca5ed6054e8cc6d0fa4c46b2e883db9f7ddd3ac470339fb/mlflow-2.21.2-py3-none-any.whl.metadata\n",
      "  Using cached mlflow-2.21.2-py3-none-any.whl.metadata (30 kB)\n",
      "Requirement already satisfied: langchain-core==0.3.29 in /local_disk0/.ephemeral_nfs/envs/pythonEnv-5ac1a891-a479-4c27-a277-95347ce1670a/lib/python3.11/site-packages (from -r requirements.txt (line 2)) (0.3.29)\n",
      "Requirement already satisfied: databricks-langchain==0.4.2 in /local_disk0/.ephemeral_nfs/envs/pythonEnv-5ac1a891-a479-4c27-a277-95347ce1670a/lib/python3.11/site-packages (from -r requirements.txt (line 3)) (0.4.2)\n",
      "Collecting databricks-agents==0.18.1 (from -r requirements.txt (line 4))\n",
      "  Obtaining dependency information for databricks-agents==0.18.1 from https://files.pythonhosted.org/packages/0e/cc/0b0b7a07c6ed5f7af18e9d6dc39f28f41f1ffba06e6f7665e825857b000f/databricks_agents-0.18.1-py3-none-any.whl.metadata\n",
      "  Using cached databricks_agents-0.18.1-py3-none-any.whl.metadata (3.5 kB)\n",
      "Requirement already satisfied: langchain-community==0.3.14 in /local_disk0/.ephemeral_nfs/envs/pythonEnv-5ac1a891-a479-4c27-a277-95347ce1670a/lib/python3.11/site-packages (from -r requirements.txt (line 5)) (0.3.14)\n",
      "Requirement already satisfied: langgraph==0.3.22 in /local_disk0/.ephemeral_nfs/envs/pythonEnv-5ac1a891-a479-4c27-a277-95347ce1670a/lib/python3.11/site-packages (from -r requirements.txt (line 6)) (0.3.22)\n",
      "Requirement already satisfied: pydantic==2.10.1 in /local_disk0/.ephemeral_nfs/envs/pythonEnv-5ac1a891-a479-4c27-a277-95347ce1670a/lib/python3.11/site-packages (from -r requirements.txt (line 7)) (2.10.1)\n",
      "Collecting mlflow-skinny==2.21.2 (from mlflow==2.21.2->-r requirements.txt (line 1))\n",
      "  Obtaining dependency information for mlflow-skinny==2.21.2 from https://files.pythonhosted.org/packages/e2/ec/adfbccfac31e0d85003d74e03694a30ba54b5e0e3c7783de64952e9c3b84/mlflow_skinny-2.21.2-py3-none-any.whl.metadata\n",
      "  Using cached mlflow_skinny-2.21.2-py3-none-any.whl.metadata (31 kB)\n",
      "Requirement already satisfied: Flask<4 in /local_disk0/.ephemeral_nfs/envs/pythonEnv-5ac1a891-a479-4c27-a277-95347ce1670a/lib/python3.11/site-packages (from mlflow==2.21.2->-r requirements.txt (line 1)) (3.1.0)\n",
      "Requirement already satisfied: Jinja2<4,>=2.11 in /local_disk0/.ephemeral_nfs/envs/pythonEnv-5ac1a891-a479-4c27-a277-95347ce1670a/lib/python3.11/site-packages (from mlflow==2.21.2->-r requirements.txt (line 1)) (3.1.6)\n",
      "Requirement already satisfied: alembic!=1.10.0,<2 in /local_disk0/.ephemeral_nfs/envs/pythonEnv-5ac1a891-a479-4c27-a277-95347ce1670a/lib/python3.11/site-packages (from mlflow==2.21.2->-r requirements.txt (line 1)) (1.15.2)\n",
      "Requirement already satisfied: docker<8,>=4.0.0 in /local_disk0/.ephemeral_nfs/envs/pythonEnv-5ac1a891-a479-4c27-a277-95347ce1670a/lib/python3.11/site-packages (from mlflow==2.21.2->-r requirements.txt (line 1)) (7.1.0)\n",
      "Requirement already satisfied: graphene<4 in /local_disk0/.ephemeral_nfs/envs/pythonEnv-5ac1a891-a479-4c27-a277-95347ce1670a/lib/python3.11/site-packages (from mlflow==2.21.2->-r requirements.txt (line 1)) (3.4.3)\n",
      "Requirement already satisfied: gunicorn<24 in /local_disk0/.ephemeral_nfs/envs/pythonEnv-5ac1a891-a479-4c27-a277-95347ce1670a/lib/python3.11/site-packages (from mlflow==2.21.2->-r requirements.txt (line 1)) (23.0.0)\n",
      "Requirement already satisfied: markdown<4,>=3.3 in /local_disk0/.ephemeral_nfs/envs/pythonEnv-5ac1a891-a479-4c27-a277-95347ce1670a/lib/python3.11/site-packages (from mlflow==2.21.2->-r requirements.txt (line 1)) (3.8)\n",
      "Requirement already satisfied: matplotlib<4 in /databricks/python3/lib/python3.11/site-packages (from mlflow==2.21.2->-r requirements.txt (line 1)) (3.7.2)\n",
      "Requirement already satisfied: numpy<3 in /databricks/python3/lib/python3.11/site-packages (from mlflow==2.21.2->-r requirements.txt (line 1)) (1.23.5)\n",
      "Requirement already satisfied: pandas<3 in /databricks/python3/lib/python3.11/site-packages (from mlflow==2.21.2->-r requirements.txt (line 1)) (1.5.3)\n",
      "Requirement already satisfied: pyarrow<20,>=4.0.0 in /databricks/python3/lib/python3.11/site-packages (from mlflow==2.21.2->-r requirements.txt (line 1)) (14.0.1)\n",
      "Requirement already satisfied: scikit-learn<2 in /databricks/python3/lib/python3.11/site-packages (from mlflow==2.21.2->-r requirements.txt (line 1)) (1.3.0)\n",
      "Requirement already satisfied: scipy<2 in /databricks/python3/lib/python3.11/site-packages (from mlflow==2.21.2->-r requirements.txt (line 1)) (1.11.1)\n",
      "Requirement already satisfied: sqlalchemy<3,>=1.4.0 in /local_disk0/.ephemeral_nfs/envs/pythonEnv-5ac1a891-a479-4c27-a277-95347ce1670a/lib/python3.11/site-packages (from mlflow==2.21.2->-r requirements.txt (line 1)) (2.0.40)\n",
      "Requirement already satisfied: PyYAML>=5.3 in /databricks/python3/lib/python3.11/site-packages (from langchain-core==0.3.29->-r requirements.txt (line 2)) (6.0)\n",
      "Requirement already satisfied: jsonpatch<2.0,>=1.33 in /local_disk0/.ephemeral_nfs/envs/pythonEnv-5ac1a891-a479-4c27-a277-95347ce1670a/lib/python3.11/site-packages (from langchain-core==0.3.29->-r requirements.txt (line 2)) (1.33)\n",
      "Requirement already satisfied: langsmith<0.3,>=0.1.125 in /local_disk0/.ephemeral_nfs/envs/pythonEnv-5ac1a891-a479-4c27-a277-95347ce1670a/lib/python3.11/site-packages (from langchain-core==0.3.29->-r requirements.txt (line 2)) (0.2.11)\n",
      "Requirement already satisfied: packaging<25,>=23.2 in /databricks/python3/lib/python3.11/site-packages (from langchain-core==0.3.29->-r requirements.txt (line 2)) (23.2)\n",
      "Requirement already satisfied: tenacity!=8.4.0,<10.0.0,>=8.1.0 in /local_disk0/.ephemeral_nfs/envs/pythonEnv-5ac1a891-a479-4c27-a277-95347ce1670a/lib/python3.11/site-packages (from langchain-core==0.3.29->-r requirements.txt (line 2)) (9.1.2)\n",
      "Requirement already satisfied: typing-extensions>=4.7 in /local_disk0/.ephemeral_nfs/envs/pythonEnv-5ac1a891-a479-4c27-a277-95347ce1670a/lib/python3.11/site-packages (from langchain-core==0.3.29->-r requirements.txt (line 2)) (4.13.2)\n",
      "Requirement already satisfied: databricks-ai-bridge>=0.4.0 in /local_disk0/.ephemeral_nfs/envs/pythonEnv-5ac1a891-a479-4c27-a277-95347ce1670a/lib/python3.11/site-packages (from databricks-langchain==0.4.2->-r requirements.txt (line 3)) (0.4.1)\n",
      "Requirement already satisfied: databricks-connect>=16.1.1 in /local_disk0/.ephemeral_nfs/envs/pythonEnv-5ac1a891-a479-4c27-a277-95347ce1670a/lib/python3.11/site-packages (from databricks-langchain==0.4.2->-r requirements.txt (line 3)) (16.1.4)\n",
      "Requirement already satisfied: databricks-vectorsearch>=0.50 in /local_disk0/.ephemeral_nfs/envs/pythonEnv-5ac1a891-a479-4c27-a277-95347ce1670a/lib/python3.11/site-packages (from databricks-langchain==0.4.2->-r requirements.txt (line 3)) (0.56)\n",
      "Requirement already satisfied: langchain>=0.3.0 in /local_disk0/.ephemeral_nfs/envs/pythonEnv-5ac1a891-a479-4c27-a277-95347ce1670a/lib/python3.11/site-packages (from databricks-langchain==0.4.2->-r requirements.txt (line 3)) (0.3.14)\n",
      "Requirement already satisfied: unitycatalog-langchain[databricks]>=0.2.0 in /local_disk0/.ephemeral_nfs/envs/pythonEnv-5ac1a891-a479-4c27-a277-95347ce1670a/lib/python3.11/site-packages (from databricks-langchain==0.4.2->-r requirements.txt (line 3)) (0.2.0)\n",
      "Requirement already satisfied: dataclasses-json in /local_disk0/.ephemeral_nfs/envs/pythonEnv-5ac1a891-a479-4c27-a277-95347ce1670a/lib/python3.11/site-packages (from databricks-agents==0.18.1->-r requirements.txt (line 4)) (0.6.7)\n",
      "Requirement already satisfied: databricks-sdk>=0.45.0 in /local_disk0/.ephemeral_nfs/envs/pythonEnv-5ac1a891-a479-4c27-a277-95347ce1670a/lib/python3.11/site-packages (from databricks-agents==0.18.1->-r requirements.txt (line 4)) (0.52.0)\n",
      "Requirement already satisfied: mlflow[databricks]<3.0,>=2.21.2 in /local_disk0/.ephemeral_nfs/envs/pythonEnv-5ac1a891-a479-4c27-a277-95347ce1670a/lib/python3.11/site-packages (from databricks-agents==0.18.1->-r requirements.txt (line 4)) (2.22.0)\n",
      "Requirement already satisfied: tiktoken>=0.8.0 in /local_disk0/.ephemeral_nfs/envs/pythonEnv-5ac1a891-a479-4c27-a277-95347ce1670a/lib/python3.11/site-packages (from databricks-agents==0.18.1->-r requirements.txt (line 4)) (0.9.0)\n",
      "Requirement already satisfied: tqdm in /local_disk0/.ephemeral_nfs/envs/pythonEnv-5ac1a891-a479-4c27-a277-95347ce1670a/lib/python3.11/site-packages (from databricks-agents==0.18.1->-r requirements.txt (line 4)) (4.67.1)\n",
      "Requirement already satisfied: urllib3>=2.0 in /local_disk0/.ephemeral_nfs/envs/pythonEnv-5ac1a891-a479-4c27-a277-95347ce1670a/lib/python3.11/site-packages (from databricks-agents==0.18.1->-r requirements.txt (line 4)) (2.0.7)\n",
      "Requirement already satisfied: aiohttp<4.0.0,>=3.8.3 in /local_disk0/.ephemeral_nfs/envs/pythonEnv-5ac1a891-a479-4c27-a277-95347ce1670a/lib/python3.11/site-packages (from langchain-community==0.3.14->-r requirements.txt (line 5)) (3.11.18)\n",
      "Requirement already satisfied: httpx-sse<0.5.0,>=0.4.0 in /local_disk0/.ephemeral_nfs/envs/pythonEnv-5ac1a891-a479-4c27-a277-95347ce1670a/lib/python3.11/site-packages (from langchain-community==0.3.14->-r requirements.txt (line 5)) (0.4.0)\n",
      "Requirement already satisfied: pydantic-settings<3.0.0,>=2.4.0 in /local_disk0/.ephemeral_nfs/envs/pythonEnv-5ac1a891-a479-4c27-a277-95347ce1670a/lib/python3.11/site-packages (from langchain-community==0.3.14->-r requirements.txt (line 5)) (2.9.1)\n",
      "Requirement already satisfied: requests<3,>=2 in /databricks/python3/lib/python3.11/site-packages (from langchain-community==0.3.14->-r requirements.txt (line 5)) (2.31.0)\n",
      "Requirement already satisfied: langgraph-checkpoint<3.0.0,>=2.0.10 in /local_disk0/.ephemeral_nfs/envs/pythonEnv-5ac1a891-a479-4c27-a277-95347ce1670a/lib/python3.11/site-packages (from langgraph==0.3.22->-r requirements.txt (line 6)) (2.0.25)\n",
      "Requirement already satisfied: langgraph-prebuilt<0.2,>=0.1.1 in /local_disk0/.ephemeral_nfs/envs/pythonEnv-5ac1a891-a479-4c27-a277-95347ce1670a/lib/python3.11/site-packages (from langgraph==0.3.22->-r requirements.txt (line 6)) (0.1.8)\n",
      "Requirement already satisfied: langgraph-sdk<0.2.0,>=0.1.42 in /local_disk0/.ephemeral_nfs/envs/pythonEnv-5ac1a891-a479-4c27-a277-95347ce1670a/lib/python3.11/site-packages (from langgraph==0.3.22->-r requirements.txt (line 6)) (0.1.66)\n",
      "Requirement already satisfied: xxhash<4.0.0,>=3.5.0 in /local_disk0/.ephemeral_nfs/envs/pythonEnv-5ac1a891-a479-4c27-a277-95347ce1670a/lib/python3.11/site-packages (from langgraph==0.3.22->-r requirements.txt (line 6)) (3.5.0)\n",
      "Requirement already satisfied: annotated-types>=0.6.0 in /local_disk0/.ephemeral_nfs/envs/pythonEnv-5ac1a891-a479-4c27-a277-95347ce1670a/lib/python3.11/site-packages (from pydantic==2.10.1->-r requirements.txt (line 7)) (0.7.0)\n",
      "Requirement already satisfied: pydantic-core==2.27.1 in /local_disk0/.ephemeral_nfs/envs/pythonEnv-5ac1a891-a479-4c27-a277-95347ce1670a/lib/python3.11/site-packages (from pydantic==2.10.1->-r requirements.txt (line 7)) (2.27.1)\n",
      "Requirement already satisfied: cachetools<6,>=5.0.0 in /databricks/python3/lib/python3.11/site-packages (from mlflow-skinny==2.21.2->mlflow==2.21.2->-r requirements.txt (line 1)) (5.3.3)\n",
      "Requirement already satisfied: click<9,>=7.0 in /local_disk0/.ephemeral_nfs/envs/pythonEnv-5ac1a891-a479-4c27-a277-95347ce1670a/lib/python3.11/site-packages (from mlflow-skinny==2.21.2->mlflow==2.21.2->-r requirements.txt (line 1)) (8.2.0)\n",
      "Requirement already satisfied: cloudpickle<4 in /databricks/python3/lib/python3.11/site-packages (from mlflow-skinny==2.21.2->mlflow==2.21.2->-r requirements.txt (line 1)) (2.2.1)\n",
      "Requirement already satisfied: fastapi<1 in /local_disk0/.ephemeral_nfs/envs/pythonEnv-5ac1a891-a479-4c27-a277-95347ce1670a/lib/python3.11/site-packages (from mlflow-skinny==2.21.2->mlflow==2.21.2->-r requirements.txt (line 1)) (0.115.12)\n",
      "Requirement already satisfied: gitpython<4,>=3.1.9 in /databricks/python3/lib/python3.11/site-packages (from mlflow-skinny==2.21.2->mlflow==2.21.2->-r requirements.txt (line 1)) (3.1.43)\n",
      "Requirement already satisfied: importlib_metadata!=4.7.0,<9,>=3.7.0 in /databricks/python3/lib/python3.11/site-packages (from mlflow-skinny==2.21.2->mlflow==2.21.2->-r requirements.txt (line 1)) (6.0.0)\n",
      "Requirement already satisfied: opentelemetry-api<3,>=1.9.0 in /local_disk0/.ephemeral_nfs/envs/pythonEnv-5ac1a891-a479-4c27-a277-95347ce1670a/lib/python3.11/site-packages (from mlflow-skinny==2.21.2->mlflow==2.21.2->-r requirements.txt (line 1)) (1.33.0)\n",
      "Requirement already satisfied: opentelemetry-sdk<3,>=1.9.0 in /local_disk0/.ephemeral_nfs/envs/pythonEnv-5ac1a891-a479-4c27-a277-95347ce1670a/lib/python3.11/site-packages (from mlflow-skinny==2.21.2->mlflow==2.21.2->-r requirements.txt (line 1)) (1.33.0)\n",
      "Requirement already satisfied: protobuf<6,>=3.12.0 in /databricks/python3/lib/python3.11/site-packages (from mlflow-skinny==2.21.2->mlflow==2.21.2->-r requirements.txt (line 1)) (4.24.1)\n",
      "Requirement already satisfied: sqlparse<1,>=0.4.0 in /databricks/python3/lib/python3.11/site-packages (from mlflow-skinny==2.21.2->mlflow==2.21.2->-r requirements.txt (line 1)) (0.5.0)\n",
      "Requirement already satisfied: uvicorn<1 in /local_disk0/.ephemeral_nfs/envs/pythonEnv-5ac1a891-a479-4c27-a277-95347ce1670a/lib/python3.11/site-packages (from mlflow-skinny==2.21.2->mlflow==2.21.2->-r requirements.txt (line 1)) (0.34.2)\n",
      "Requirement already satisfied: aiohappyeyeballs>=2.3.0 in /local_disk0/.ephemeral_nfs/envs/pythonEnv-5ac1a891-a479-4c27-a277-95347ce1670a/lib/python3.11/site-packages (from aiohttp<4.0.0,>=3.8.3->langchain-community==0.3.14->-r requirements.txt (line 5)) (2.6.1)\n",
      "Requirement already satisfied: aiosignal>=1.1.2 in /local_disk0/.ephemeral_nfs/envs/pythonEnv-5ac1a891-a479-4c27-a277-95347ce1670a/lib/python3.11/site-packages (from aiohttp<4.0.0,>=3.8.3->langchain-community==0.3.14->-r requirements.txt (line 5)) (1.3.2)\n",
      "Requirement already satisfied: attrs>=17.3.0 in /local_disk0/.ephemeral_nfs/envs/pythonEnv-5ac1a891-a479-4c27-a277-95347ce1670a/lib/python3.11/site-packages (from aiohttp<4.0.0,>=3.8.3->langchain-community==0.3.14->-r requirements.txt (line 5)) (25.3.0)\n",
      "Requirement already satisfied: frozenlist>=1.1.1 in /local_disk0/.ephemeral_nfs/envs/pythonEnv-5ac1a891-a479-4c27-a277-95347ce1670a/lib/python3.11/site-packages (from aiohttp<4.0.0,>=3.8.3->langchain-community==0.3.14->-r requirements.txt (line 5)) (1.6.0)\n",
      "Requirement already satisfied: multidict<7.0,>=4.5 in /local_disk0/.ephemeral_nfs/envs/pythonEnv-5ac1a891-a479-4c27-a277-95347ce1670a/lib/python3.11/site-packages (from aiohttp<4.0.0,>=3.8.3->langchain-community==0.3.14->-r requirements.txt (line 5)) (6.4.3)\n",
      "Requirement already satisfied: propcache>=0.2.0 in /local_disk0/.ephemeral_nfs/envs/pythonEnv-5ac1a891-a479-4c27-a277-95347ce1670a/lib/python3.11/site-packages (from aiohttp<4.0.0,>=3.8.3->langchain-community==0.3.14->-r requirements.txt (line 5)) (0.3.1)\n",
      "Requirement already satisfied: yarl<2.0,>=1.17.0 in /local_disk0/.ephemeral_nfs/envs/pythonEnv-5ac1a891-a479-4c27-a277-95347ce1670a/lib/python3.11/site-packages (from aiohttp<4.0.0,>=3.8.3->langchain-community==0.3.14->-r requirements.txt (line 5)) (1.20.0)\n",
      "Requirement already satisfied: Mako in /local_disk0/.ephemeral_nfs/envs/pythonEnv-5ac1a891-a479-4c27-a277-95347ce1670a/lib/python3.11/site-packages (from alembic!=1.10.0,<2->mlflow==2.21.2->-r requirements.txt (line 1)) (1.3.10)\n",
      "Requirement already satisfied: tabulate>=0.9.0 in /local_disk0/.ephemeral_nfs/envs/pythonEnv-5ac1a891-a479-4c27-a277-95347ce1670a/lib/python3.11/site-packages (from databricks-ai-bridge>=0.4.0->databricks-langchain==0.4.2->-r requirements.txt (line 3)) (0.9.0)\n",
      "Requirement already satisfied: googleapis-common-protos>=1.56.4 in /databricks/python3/lib/python3.11/site-packages (from databricks-connect>=16.1.1->databricks-langchain==0.4.2->-r requirements.txt (line 3)) (1.63.2)\n",
      "Requirement already satisfied: grpcio-status>=1.59.3 in /databricks/python3/lib/python3.11/site-packages (from databricks-connect>=16.1.1->databricks-langchain==0.4.2->-r requirements.txt (line 3)) (1.60.0)\n",
      "Requirement already satisfied: grpcio>=1.59.3 in /databricks/python3/lib/python3.11/site-packages (from databricks-connect>=16.1.1->databricks-langchain==0.4.2->-r requirements.txt (line 3)) (1.60.0)\n",
      "Requirement already satisfied: py4j==0.10.9.7 in /local_disk0/.ephemeral_nfs/envs/pythonEnv-5ac1a891-a479-4c27-a277-95347ce1670a/lib/python3.11/site-packages (from databricks-connect>=16.1.1->databricks-langchain==0.4.2->-r requirements.txt (line 3)) (0.10.9.7)\n",
      "Requirement already satisfied: setuptools>=68.0.0 in /databricks/python3/lib/python3.11/site-packages (from databricks-connect>=16.1.1->databricks-langchain==0.4.2->-r requirements.txt (line 3)) (68.0.0)\n",
      "Requirement already satisfied: six in /usr/lib/python3/dist-packages (from databricks-connect>=16.1.1->databricks-langchain==0.4.2->-r requirements.txt (line 3)) (1.16.0)\n",
      "Requirement already satisfied: google-auth~=2.0 in /databricks/python3/lib/python3.11/site-packages (from databricks-sdk>=0.45.0->databricks-agents==0.18.1->-r requirements.txt (line 4)) (2.31.0)\n",
      "Requirement already satisfied: deprecation>=2 in /local_disk0/.ephemeral_nfs/envs/pythonEnv-5ac1a891-a479-4c27-a277-95347ce1670a/lib/python3.11/site-packages (from databricks-vectorsearch>=0.50->databricks-langchain==0.4.2->-r requirements.txt (line 3)) (2.1.0)\n",
      "Requirement already satisfied: marshmallow<4.0.0,>=3.18.0 in /local_disk0/.ephemeral_nfs/envs/pythonEnv-5ac1a891-a479-4c27-a277-95347ce1670a/lib/python3.11/site-packages (from dataclasses-json->databricks-agents==0.18.1->-r requirements.txt (line 4)) (3.26.1)\n",
      "Requirement already satisfied: typing-inspect<1,>=0.4.0 in /local_disk0/.ephemeral_nfs/envs/pythonEnv-5ac1a891-a479-4c27-a277-95347ce1670a/lib/python3.11/site-packages (from dataclasses-json->databricks-agents==0.18.1->-r requirements.txt (line 4)) (0.9.0)\n",
      "Requirement already satisfied: Werkzeug>=3.1 in /local_disk0/.ephemeral_nfs/envs/pythonEnv-5ac1a891-a479-4c27-a277-95347ce1670a/lib/python3.11/site-packages (from Flask<4->mlflow==2.21.2->-r requirements.txt (line 1)) (3.1.3)\n",
      "Requirement already satisfied: itsdangerous>=2.2 in /local_disk0/.ephemeral_nfs/envs/pythonEnv-5ac1a891-a479-4c27-a277-95347ce1670a/lib/python3.11/site-packages (from Flask<4->mlflow==2.21.2->-r requirements.txt (line 1)) (2.2.0)\n",
      "Requirement already satisfied: blinker>=1.9 in /local_disk0/.ephemeral_nfs/envs/pythonEnv-5ac1a891-a479-4c27-a277-95347ce1670a/lib/python3.11/site-packages (from Flask<4->mlflow==2.21.2->-r requirements.txt (line 1)) (1.9.0)\n",
      "Requirement already satisfied: graphql-core<3.3,>=3.1 in /local_disk0/.ephemeral_nfs/envs/pythonEnv-5ac1a891-a479-4c27-a277-95347ce1670a/lib/python3.11/site-packages (from graphene<4->mlflow==2.21.2->-r requirements.txt (line 1)) (3.2.6)\n",
      "Requirement already satisfied: graphql-relay<3.3,>=3.1 in /local_disk0/.ephemeral_nfs/envs/pythonEnv-5ac1a891-a479-4c27-a277-95347ce1670a/lib/python3.11/site-packages (from graphene<4->mlflow==2.21.2->-r requirements.txt (line 1)) (3.2.0)\n",
      "Requirement already satisfied: python-dateutil<3,>=2.7.0 in /databricks/python3/lib/python3.11/site-packages (from graphene<4->mlflow==2.21.2->-r requirements.txt (line 1)) (2.8.2)\n",
      "Requirement already satisfied: MarkupSafe>=2.0 in /local_disk0/.ephemeral_nfs/envs/pythonEnv-5ac1a891-a479-4c27-a277-95347ce1670a/lib/python3.11/site-packages (from Jinja2<4,>=2.11->mlflow==2.21.2->-r requirements.txt (line 1)) (3.0.2)\n",
      "Requirement already satisfied: jsonpointer>=1.9 in /local_disk0/.ephemeral_nfs/envs/pythonEnv-5ac1a891-a479-4c27-a277-95347ce1670a/lib/python3.11/site-packages (from jsonpatch<2.0,>=1.33->langchain-core==0.3.29->-r requirements.txt (line 2)) (3.0.0)\n",
      "Requirement already satisfied: langchain-text-splitters<0.4.0,>=0.3.3 in /local_disk0/.ephemeral_nfs/envs/pythonEnv-5ac1a891-a479-4c27-a277-95347ce1670a/lib/python3.11/site-packages (from langchain>=0.3.0->databricks-langchain==0.4.2->-r requirements.txt (line 3)) (0.3.5)\n",
      "Requirement already satisfied: ormsgpack<2.0.0,>=1.8.0 in /local_disk0/.ephemeral_nfs/envs/pythonEnv-5ac1a891-a479-4c27-a277-95347ce1670a/lib/python3.11/site-packages (from langgraph-checkpoint<3.0.0,>=2.0.10->langgraph==0.3.22->-r requirements.txt (line 6)) (1.9.1)\n",
      "Requirement already satisfied: httpx>=0.25.2 in /local_disk0/.ephemeral_nfs/envs/pythonEnv-5ac1a891-a479-4c27-a277-95347ce1670a/lib/python3.11/site-packages (from langgraph-sdk<0.2.0,>=0.1.42->langgraph==0.3.22->-r requirements.txt (line 6)) (0.28.1)\n",
      "Requirement already satisfied: orjson>=3.10.1 in /local_disk0/.ephemeral_nfs/envs/pythonEnv-5ac1a891-a479-4c27-a277-95347ce1670a/lib/python3.11/site-packages (from langgraph-sdk<0.2.0,>=0.1.42->langgraph==0.3.22->-r requirements.txt (line 6)) (3.10.18)\n",
      "Requirement already satisfied: requests-toolbelt<2.0.0,>=1.0.0 in /local_disk0/.ephemeral_nfs/envs/pythonEnv-5ac1a891-a479-4c27-a277-95347ce1670a/lib/python3.11/site-packages (from langsmith<0.3,>=0.1.125->langchain-core==0.3.29->-r requirements.txt (line 2)) (1.0.0)\n",
      "Requirement already satisfied: contourpy>=1.0.1 in /databricks/python3/lib/python3.11/site-packages (from matplotlib<4->mlflow==2.21.2->-r requirements.txt (line 1)) (1.0.5)\n",
      "Requirement already satisfied: cycler>=0.10 in /databricks/python3/lib/python3.11/site-packages (from matplotlib<4->mlflow==2.21.2->-r requirements.txt (line 1)) (0.11.0)\n",
      "Requirement already satisfied: fonttools>=4.22.0 in /databricks/python3/lib/python3.11/site-packages (from matplotlib<4->mlflow==2.21.2->-r requirements.txt (line 1)) (4.25.0)\n",
      "Requirement already satisfied: kiwisolver>=1.0.1 in /databricks/python3/lib/python3.11/site-packages (from matplotlib<4->mlflow==2.21.2->-r requirements.txt (line 1)) (1.4.4)\n",
      "Requirement already satisfied: pillow>=6.2.0 in /databricks/python3/lib/python3.11/site-packages (from matplotlib<4->mlflow==2.21.2->-r requirements.txt (line 1)) (9.4.0)\n",
      "Requirement already satisfied: pyparsing<3.1,>=2.3.1 in /databricks/python3/lib/python3.11/site-packages (from matplotlib<4->mlflow==2.21.2->-r requirements.txt (line 1)) (3.0.9)\n",
      "INFO: pip is looking at multiple versions of mlflow[databricks] to determine which version is compatible with other requirements. This could take a while.\n",
      "Collecting mlflow[databricks]<3.0,>=2.21.2 (from databricks-agents==0.18.1->-r requirements.txt (line 4))\n",
      "  Obtaining dependency information for mlflow[databricks]<3.0,>=2.21.2 from https://files.pythonhosted.org/packages/72/f1/be329ef23da1933135afc5e493cbe1b7ecf5302890f2a7ac2124b64c01bd/mlflow-2.21.3-py3-none-any.whl.metadata\n",
      "  Using cached mlflow-2.21.3-py3-none-any.whl.metadata (30 kB)\n",
      "Requirement already satisfied: azure-storage-file-datalake>12 in /databricks/python3/lib/python3.11/site-packages (from mlflow==2.21.2->-r requirements.txt (line 1)) (12.14.0)\n",
      "Requirement already satisfied: google-cloud-storage>=1.30.0 in /databricks/python3/lib/python3.11/site-packages (from mlflow==2.21.2->-r requirements.txt (line 1)) (2.17.0)\n",
      "Requirement already satisfied: boto3>1 in /databricks/python3/lib/python3.11/site-packages (from mlflow==2.21.2->-r requirements.txt (line 1)) (1.34.39)\n",
      "Requirement already satisfied: botocore in /databricks/python3/lib/python3.11/site-packages (from mlflow==2.21.2->-r requirements.txt (line 1)) (1.34.39)\n",
      "Requirement already satisfied: pytz>=2020.1 in /databricks/python3/lib/python3.11/site-packages (from pandas<3->mlflow==2.21.2->-r requirements.txt (line 1)) (2022.7)\n",
      "Requirement already satisfied: python-dotenv>=0.21.0 in /local_disk0/.ephemeral_nfs/envs/pythonEnv-5ac1a891-a479-4c27-a277-95347ce1670a/lib/python3.11/site-packages (from pydantic-settings<3.0.0,>=2.4.0->langchain-community==0.3.14->-r requirements.txt (line 5)) (1.1.0)\n",
      "Requirement already satisfied: typing-inspection>=0.4.0 in /local_disk0/.ephemeral_nfs/envs/pythonEnv-5ac1a891-a479-4c27-a277-95347ce1670a/lib/python3.11/site-packages (from pydantic-settings<3.0.0,>=2.4.0->langchain-community==0.3.14->-r requirements.txt (line 5)) (0.4.0)\n",
      "Requirement already satisfied: charset-normalizer<4,>=2 in /databricks/python3/lib/python3.11/site-packages (from requests<3,>=2->langchain-community==0.3.14->-r requirements.txt (line 5)) (2.0.4)\n",
      "Requirement already satisfied: idna<4,>=2.5 in /databricks/python3/lib/python3.11/site-packages (from requests<3,>=2->langchain-community==0.3.14->-r requirements.txt (line 5)) (3.4)\n",
      "Requirement already satisfied: certifi>=2017.4.17 in /databricks/python3/lib/python3.11/site-packages (from requests<3,>=2->langchain-community==0.3.14->-r requirements.txt (line 5)) (2023.7.22)\n",
      "Requirement already satisfied: joblib>=1.1.1 in /databricks/python3/lib/python3.11/site-packages (from scikit-learn<2->mlflow==2.21.2->-r requirements.txt (line 1)) (1.2.0)\n",
      "Requirement already satisfied: threadpoolctl>=2.0.0 in /databricks/python3/lib/python3.11/site-packages (from scikit-learn<2->mlflow==2.21.2->-r requirements.txt (line 1)) (2.2.0)\n",
      "Requirement already satisfied: greenlet>=1 in /local_disk0/.ephemeral_nfs/envs/pythonEnv-5ac1a891-a479-4c27-a277-95347ce1670a/lib/python3.11/site-packages (from sqlalchemy<3,>=1.4.0->mlflow==2.21.2->-r requirements.txt (line 1)) (3.2.2)\n",
      "Requirement already satisfied: regex>=2022.1.18 in /local_disk0/.ephemeral_nfs/envs/pythonEnv-5ac1a891-a479-4c27-a277-95347ce1670a/lib/python3.11/site-packages (from tiktoken>=0.8.0->databricks-agents==0.18.1->-r requirements.txt (line 4)) (2024.11.6)\n",
      "Requirement already satisfied: unitycatalog-ai in /local_disk0/.ephemeral_nfs/envs/pythonEnv-5ac1a891-a479-4c27-a277-95347ce1670a/lib/python3.11/site-packages (from unitycatalog-langchain[databricks]>=0.2.0->databricks-langchain==0.4.2->-r requirements.txt (line 3)) (0.3.0)\n",
      "Requirement already satisfied: azure-core<2.0.0,>=1.28.0 in /databricks/python3/lib/python3.11/site-packages (from azure-storage-file-datalake>12->mlflow==2.21.2->-r requirements.txt (line 1)) (1.30.2)\n",
      "Requirement already satisfied: azure-storage-blob<13.0.0,>=12.19.0 in /databricks/python3/lib/python3.11/site-packages (from azure-storage-file-datalake>12->mlflow==2.21.2->-r requirements.txt (line 1)) (12.19.1)\n",
      "Requirement already satisfied: isodate>=0.6.1 in /databricks/python3/lib/python3.11/site-packages (from azure-storage-file-datalake>12->mlflow==2.21.2->-r requirements.txt (line 1)) (0.6.1)\n",
      "Requirement already satisfied: jmespath<2.0.0,>=0.7.1 in /databricks/python3/lib/python3.11/site-packages (from boto3>1->mlflow==2.21.2->-r requirements.txt (line 1)) (0.10.0)\n",
      "Requirement already satisfied: s3transfer<0.11.0,>=0.10.0 in /databricks/python3/lib/python3.11/site-packages (from boto3>1->mlflow==2.21.2->-r requirements.txt (line 1)) (0.10.2)\n",
      "Requirement already satisfied: starlette<0.47.0,>=0.40.0 in /local_disk0/.ephemeral_nfs/envs/pythonEnv-5ac1a891-a479-4c27-a277-95347ce1670a/lib/python3.11/site-packages (from fastapi<1->mlflow-skinny==2.21.2->mlflow==2.21.2->-r requirements.txt (line 1)) (0.46.2)\n",
      "Requirement already satisfied: gitdb<5,>=4.0.1 in /databricks/python3/lib/python3.11/site-packages (from gitpython<4,>=3.1.9->mlflow-skinny==2.21.2->mlflow==2.21.2->-r requirements.txt (line 1)) (4.0.11)\n",
      "Requirement already satisfied: pyasn1-modules>=0.2.1 in /databricks/python3/lib/python3.11/site-packages (from google-auth~=2.0->databricks-sdk>=0.45.0->databricks-agents==0.18.1->-r requirements.txt (line 4)) (0.2.8)\n",
      "Requirement already satisfied: rsa<5,>=3.1.4 in /databricks/python3/lib/python3.11/site-packages (from google-auth~=2.0->databricks-sdk>=0.45.0->databricks-agents==0.18.1->-r requirements.txt (line 4)) (4.9)\n",
      "Requirement already satisfied: google-api-core<3.0.0dev,>=2.15.0 in /databricks/python3/lib/python3.11/site-packages (from google-cloud-storage>=1.30.0->mlflow==2.21.2->-r requirements.txt (line 1)) (2.18.0)\n",
      "Requirement already satisfied: google-cloud-core<3.0dev,>=2.3.0 in /databricks/python3/lib/python3.11/site-packages (from google-cloud-storage>=1.30.0->mlflow==2.21.2->-r requirements.txt (line 1)) (2.4.1)\n",
      "Requirement already satisfied: google-resumable-media>=2.6.0 in /databricks/python3/lib/python3.11/site-packages (from google-cloud-storage>=1.30.0->mlflow==2.21.2->-r requirements.txt (line 1)) (2.7.1)\n",
      "Requirement already satisfied: google-crc32c<2.0dev,>=1.0 in /databricks/python3/lib/python3.11/site-packages (from google-cloud-storage>=1.30.0->mlflow==2.21.2->-r requirements.txt (line 1)) (1.5.0)\n",
      "Requirement already satisfied: anyio in /local_disk0/.ephemeral_nfs/envs/pythonEnv-5ac1a891-a479-4c27-a277-95347ce1670a/lib/python3.11/site-packages (from httpx>=0.25.2->langgraph-sdk<0.2.0,>=0.1.42->langgraph==0.3.22->-r requirements.txt (line 6)) (4.9.0)\n",
      "Requirement already satisfied: httpcore==1.* in /local_disk0/.ephemeral_nfs/envs/pythonEnv-5ac1a891-a479-4c27-a277-95347ce1670a/lib/python3.11/site-packages (from httpx>=0.25.2->langgraph-sdk<0.2.0,>=0.1.42->langgraph==0.3.22->-r requirements.txt (line 6)) (1.0.9)\n",
      "Requirement already satisfied: h11>=0.16 in /local_disk0/.ephemeral_nfs/envs/pythonEnv-5ac1a891-a479-4c27-a277-95347ce1670a/lib/python3.11/site-packages (from httpcore==1.*->httpx>=0.25.2->langgraph-sdk<0.2.0,>=0.1.42->langgraph==0.3.22->-r requirements.txt (line 6)) (0.16.0)\n",
      "Requirement already satisfied: zipp>=0.5 in /databricks/python3/lib/python3.11/site-packages (from importlib_metadata!=4.7.0,<9,>=3.7.0->mlflow-skinny==2.21.2->mlflow==2.21.2->-r requirements.txt (line 1)) (3.11.0)\n",
      "Requirement already satisfied: deprecated>=1.2.6 in /local_disk0/.ephemeral_nfs/envs/pythonEnv-5ac1a891-a479-4c27-a277-95347ce1670a/lib/python3.11/site-packages (from opentelemetry-api<3,>=1.9.0->mlflow-skinny==2.21.2->mlflow==2.21.2->-r requirements.txt (line 1)) (1.2.18)\n",
      "Requirement already satisfied: opentelemetry-semantic-conventions==0.54b0 in /local_disk0/.ephemeral_nfs/envs/pythonEnv-5ac1a891-a479-4c27-a277-95347ce1670a/lib/python3.11/site-packages (from opentelemetry-sdk<3,>=1.9.0->mlflow-skinny==2.21.2->mlflow==2.21.2->-r requirements.txt (line 1)) (0.54b0)\n",
      "Requirement already satisfied: mypy-extensions>=0.3.0 in /databricks/python3/lib/python3.11/site-packages (from typing-inspect<1,>=0.4.0->dataclasses-json->databricks-agents==0.18.1->-r requirements.txt (line 4)) (0.4.3)\n",
      "Requirement already satisfied: nest-asyncio in /databricks/python3/lib/python3.11/site-packages (from unitycatalog-ai->unitycatalog-langchain[databricks]>=0.2.0->databricks-langchain==0.4.2->-r requirements.txt (line 3)) (1.5.6)\n",
      "Requirement already satisfied: unitycatalog-client in /local_disk0/.ephemeral_nfs/envs/pythonEnv-5ac1a891-a479-4c27-a277-95347ce1670a/lib/python3.11/site-packages (from unitycatalog-ai->unitycatalog-langchain[databricks]>=0.2.0->databricks-langchain==0.4.2->-r requirements.txt (line 3)) (0.2.1)\n",
      "Requirement already satisfied: cryptography>=2.1.4 in /databricks/python3/lib/python3.11/site-packages (from azure-storage-blob<13.0.0,>=12.19.0->azure-storage-file-datalake>12->mlflow==2.21.2->-r requirements.txt (line 1)) (41.0.3)\n",
      "Requirement already satisfied: wrapt<2,>=1.10 in /local_disk0/.ephemeral_nfs/envs/pythonEnv-5ac1a891-a479-4c27-a277-95347ce1670a/lib/python3.11/site-packages (from deprecated>=1.2.6->opentelemetry-api<3,>=1.9.0->mlflow-skinny==2.21.2->mlflow==2.21.2->-r requirements.txt (line 1)) (1.17.2)\n",
      "Requirement already satisfied: smmap<6,>=3.0.1 in /databricks/python3/lib/python3.11/site-packages (from gitdb<5,>=4.0.1->gitpython<4,>=3.1.9->mlflow-skinny==2.21.2->mlflow==2.21.2->-r requirements.txt (line 1)) (5.0.1)\n",
      "Requirement already satisfied: proto-plus<2.0.0dev,>=1.22.3 in /databricks/python3/lib/python3.11/site-packages (from google-api-core<3.0.0dev,>=2.15.0->google-cloud-storage>=1.30.0->mlflow==2.21.2->-r requirements.txt (line 1)) (1.24.0)\n",
      "Requirement already satisfied: pyasn1<0.5.0,>=0.4.6 in /databricks/python3/lib/python3.11/site-packages (from pyasn1-modules>=0.2.1->google-auth~=2.0->databricks-sdk>=0.45.0->databricks-agents==0.18.1->-r requirements.txt (line 4)) (0.4.8)\n",
      "Requirement already satisfied: sniffio>=1.1 in /local_disk0/.ephemeral_nfs/envs/pythonEnv-5ac1a891-a479-4c27-a277-95347ce1670a/lib/python3.11/site-packages (from anyio->httpx>=0.25.2->langgraph-sdk<0.2.0,>=0.1.42->langgraph==0.3.22->-r requirements.txt (line 6)) (1.3.1)\n",
      "Requirement already satisfied: aiohttp-retry>=2.8.3 in /local_disk0/.ephemeral_nfs/envs/pythonEnv-5ac1a891-a479-4c27-a277-95347ce1670a/lib/python3.11/site-packages (from unitycatalog-client->unitycatalog-ai->unitycatalog-langchain[databricks]>=0.2.0->databricks-langchain==0.4.2->-r requirements.txt (line 3)) (2.9.1)\n",
      "Requirement already satisfied: cffi>=1.12 in /databricks/python3/lib/python3.11/site-packages (from cryptography>=2.1.4->azure-storage-blob<13.0.0,>=12.19.0->azure-storage-file-datalake>12->mlflow==2.21.2->-r requirements.txt (line 1)) (1.15.1)\n",
      "Requirement already satisfied: pycparser in /databricks/python3/lib/python3.11/site-packages (from cffi>=1.12->cryptography>=2.1.4->azure-storage-blob<13.0.0,>=12.19.0->azure-storage-file-datalake>12->mlflow==2.21.2->-r requirements.txt (line 1)) (2.21)\n",
      "Using cached mlflow-2.21.2-py3-none-any.whl (28.2 MB)\n",
      "Using cached databricks_agents-0.18.1-py3-none-any.whl (180 kB)\n",
      "Using cached mlflow_skinny-2.21.2-py3-none-any.whl (6.1 MB)\n",
      "Installing collected packages: mlflow-skinny, mlflow, databricks-agents\n",
      "  Attempting uninstall: mlflow-skinny\n",
      "    Found existing installation: mlflow-skinny 2.22.0\n",
      "    Uninstalling mlflow-skinny-2.22.0:\n",
      "      Successfully uninstalled mlflow-skinny-2.22.0\n",
      "  Attempting uninstall: mlflow\n",
      "    Found existing installation: mlflow 2.22.0\n",
      "    Uninstalling mlflow-2.22.0:\n",
      "      Successfully uninstalled mlflow-2.22.0\n",
      "  Attempting uninstall: databricks-agents\n",
      "    Found existing installation: databricks-agents 0.21.2\n",
      "    Uninstalling databricks-agents-0.21.2:\n",
      "      Successfully uninstalled databricks-agents-0.21.2\n",
      "Successfully installed databricks-agents-0.18.1 mlflow-2.21.2 mlflow-skinny-2.21.2\n",
      "\u001b[43mNote: you may need to restart the kernel using %restart_python or dbutils.library.restartPython() to use updated packages.\u001b[0m\n"
     ]
    }
   ],
   "source": [
    "%pip install -r requirements.txt\n",
    "# %pip uninstall -y databricks-agents databricks-sdk\n",
    "# %pip install --upgrade databricks-agents databricks-sdk\n",
    "dbutils.library.restartPython()\n"
   ]
  },
  {
   "cell_type": "code",
   "execution_count": 0,
   "metadata": {
    "application/vnd.databricks.v1+cell": {
     "cellMetadata": {
      "byteLimit": 2048000,
      "rowLimit": 10000
     },
     "inputWidgets": {},
     "nuid": "099bfad1-e6d2-44c3-b0c6-88573667be13",
     "showTitle": false,
     "tableResultSettingsMap": {},
     "title": ""
    }
   },
   "outputs": [
    {
     "data": {
      "application/databricks.mlflow.trace": "\"tr-0f4fb0de8ef343ccb890f9c352b73ccb\"",
      "text/plain": [
       "Trace(request_id=tr-0f4fb0de8ef343ccb890f9c352b73ccb)"
      ]
     },
     "metadata": {},
     "output_type": "display_data"
    }
   ],
   "source": [
    "# interactive_chat.ipynb (Python script cells)\n",
    "\n",
    "import mlflow\n",
    "from chat_model import LangGraphChatAgent\n",
    "from input_examples import input_example, input_examples\n",
    "from config_utils import load_config\n",
    "from mlflow.models.resources import DatabricksServingEndpoint, DatabricksGenieSpace\n",
    "\n",
    "# Load config values\n",
    "genie_config = load_config(\"genie\")\n",
    "mlflow_config = load_config(\"mlflow\")\n",
    "\n",
    "GENIE_SPACE_ID = genie_config[\"genie_space_id\"]\n",
    "experiment_location = mlflow_config[\"experiment_location\"]\n",
    "uc_model = mlflow_config[\"uc_model\"]\n",
    "endpoint_name = mlflow_config[\"endpoint_name\"]"
   ]
  },
  {
   "cell_type": "code",
   "execution_count": 0,
   "metadata": {
    "application/vnd.databricks.v1+cell": {
     "cellMetadata": {
      "byteLimit": 2048000,
      "rowLimit": 10000
     },
     "inputWidgets": {},
     "nuid": "d7b09fe1-ffa6-43bf-91e7-caef750f5d0c",
     "showTitle": false,
     "tableResultSettingsMap": {},
     "title": ""
    }
   },
   "outputs": [
    {
     "name": "stdout",
     "output_type": "stream",
     "text": [
      "databricks-claude-3-7-sonnet\n"
     ]
    }
   ],
   "source": [
    "print(endpoint_name)"
   ]
  },
  {
   "cell_type": "markdown",
   "metadata": {
    "application/vnd.databricks.v1+cell": {
     "cellMetadata": {
      "byteLimit": 2048000,
      "rowLimit": 10000
     },
     "inputWidgets": {},
     "nuid": "077a0a06-3793-4b3d-9c73-63e46f20d0db",
     "showTitle": false,
     "tableResultSettingsMap": {},
     "title": ""
    }
   },
   "source": [
    "# Log model"
   ]
  },
  {
   "cell_type": "code",
   "execution_count": 0,
   "metadata": {
    "application/vnd.databricks.v1+cell": {
     "cellMetadata": {
      "byteLimit": 2048000,
      "rowLimit": 10000
     },
     "inputWidgets": {},
     "nuid": "582339e1-bce8-4544-9a98-c0d9517c4cb2",
     "showTitle": false,
     "tableResultSettingsMap": {},
     "title": ""
    }
   },
   "outputs": [
    {
     "name": "stderr",
     "output_type": "stream",
     "text": [
      "2025/05/11 03:42:35 INFO mlflow.pyfunc: Predicting on input example to validate output\n"
     ]
    },
    {
     "data": {
      "application/vnd.jupyter.widget-view+json": {
       "model_id": "2e537642aaad4f4bbeb20f564ec925cc",
       "version_major": 2,
       "version_minor": 0
      },
      "text/plain": [
       "Uploading artifacts:   0%|          | 0/15 [00:00<?, ?it/s]"
      ]
     },
     "metadata": {},
     "output_type": "display_data"
    },
    {
     "name": "stdout",
     "output_type": "stream",
     "text": [
      "✅ Model logged to: runs:/9fb9ae8b96e14ba79bee62865401b733/genie_graph\n"
     ]
    }
   ],
   "source": [
    "mlflow.set_experiment(experiment_location)\n",
    "\n",
    "# Define model resources\n",
    "resources = [\n",
    "    DatabricksServingEndpoint(endpoint_name=endpoint_name),\n",
    "    DatabricksGenieSpace(genie_space_id=GENIE_SPACE_ID)\n",
    "]\n",
    "\n",
    "# Log model\n",
    "with mlflow.start_run(run_name=\"db_ey_multiagent_genie_deploy_finaltest\"):\n",
    "    model_info = mlflow.pyfunc.log_model(\n",
    "        python_model=\"chat_model.py\",\n",
    "        #LangGraphChatAgent(),\n",
    "        artifact_path=\"genie_graph\",\n",
    "        input_example=input_example,\n",
    "        code_paths=[\n",
    "            \"agent.py\",\n",
    "            \"chat_model.py\",\n",
    "            \"config_utils.py\"\n",
    "        ],\n",
    "        pip_requirements=\"requirements.txt\",\n",
    "        resources=resources,\n",
    "    )\n",
    "    model_uri = model_info.model_uri\n",
    "    print(\"✅ Model logged to:\", model_uri)"
   ]
  },
  {
   "cell_type": "markdown",
   "metadata": {
    "application/vnd.databricks.v1+cell": {
     "cellMetadata": {
      "byteLimit": 2048000,
      "rowLimit": 10000
     },
     "inputWidgets": {},
     "nuid": "ce54fde0-1129-4e31-9770-aba028ba97ce",
     "showTitle": false,
     "tableResultSettingsMap": {},
     "title": ""
    }
   },
   "source": [
    "# pre-deployment validation"
   ]
  },
  {
   "cell_type": "code",
   "execution_count": 0,
   "metadata": {
    "application/vnd.databricks.v1+cell": {
     "cellMetadata": {
      "byteLimit": 2048000,
      "rowLimit": 10000
     },
     "inputWidgets": {},
     "nuid": "2a25d673-c8d1-4e8f-9283-30f060a00302",
     "showTitle": false,
     "tableResultSettingsMap": {},
     "title": ""
    }
   },
   "outputs": [
    {
     "name": "stderr",
     "output_type": "stream",
     "text": [
      "2025/05/11 03:43:33 INFO mlflow.models.python_api: It is highly recommended to use `uv` as the environment manager for predicting with MLflow models as its performance is significantly better than other environment managers. Run `pip install uv` to install uv. See https://docs.astral.sh/uv/getting-started/installation for other installation methods.\n"
     ]
    },
    {
     "name": "stdout",
     "output_type": "stream",
     "text": [
      "Running pre-deployment validation...\n"
     ]
    },
    {
     "data": {
      "application/vnd.jupyter.widget-view+json": {
       "model_id": "a325a7165b4349d0a53c7a2b1332aecd",
       "version_major": 2,
       "version_minor": 0
      },
      "text/plain": [
       "Downloading artifacts:   0%|          | 0/15 [00:00<?, ?it/s]"
      ]
     },
     "metadata": {},
     "output_type": "display_data"
    },
    {
     "name": "stderr",
     "output_type": "stream",
     "text": [
      "2025/05/11 03:43:34 INFO mlflow.models.flavor_backend_registry: Selected backend for flavor 'python_function'\n"
     ]
    },
    {
     "data": {
      "application/vnd.jupyter.widget-view+json": {
       "model_id": "a4a8e07789bf43bbabe7ee4c55a733ed",
       "version_major": 2,
       "version_minor": 0
      },
      "text/plain": [
       "Downloading artifacts:   0%|          | 0/15 [00:00<?, ?it/s]"
      ]
     },
     "metadata": {},
     "output_type": "display_data"
    },
    {
     "name": "stderr",
     "output_type": "stream",
     "text": [
      "2025/05/11 03:43:34 INFO mlflow.utils.virtualenv: Environment /tmp/virtualenv_envs/mlflow-7feea832e7b84653ac6482e1157d6bbedd1c8d14 already exists\n",
      "2025/05/11 03:43:34 INFO mlflow.utils.environment: === Running command '['bash', '-c', 'source /tmp/virtualenv_envs/mlflow-7feea832e7b84653ac6482e1157d6bbedd1c8d14/bin/activate && python -c \"\"']'\n",
      "2025/05/11 03:43:34 INFO mlflow.utils.environment: === Running command '['bash', '-c', 'source /tmp/virtualenv_envs/mlflow-7feea832e7b84653ac6482e1157d6bbedd1c8d14/bin/activate && python /local_disk0/.ephemeral_nfs/envs/pythonEnv-5ac1a891-a479-4c27-a277-95347ce1670a/lib/python3.11/site-packages/mlflow/pyfunc/_mlflow_pyfunc_backend_predict.py --model-uri file:///local_disk0/user_tmp_data/spark-5ac1a891-a479-4c27-a277-95/tmpmd3k2m3c/genie_graph --content-type json --input-path /local_disk0/user_tmp_data/spark-5ac1a891-a479-4c27-a277-95/tmpkcqz4a43/input.json']'\n"
     ]
    },
    {
     "name": "stdout",
     "output_type": "stream",
     "text": [
      "{\"messages\": [{\"role\": \"assistant\", \"content\": \"|    |   Total_Spend |\\n|---:|--------------:|\\n|  0 |        580538 |\", \"name\": \"Genie\", \"id\": \"551c17b8-377f-47fb-a195-b5361dce91b5\"}, {\"role\": \"assistant\", \"content\": \"# Goldfish Search Campaign Spending Analysis\\n\\n## Key Metrics\\nThe total spend for Goldfish search campaigns in 2024 is $580,538.\\n\\n## Budget Insight\\nThis significant investment of over half a million dollars represents a substantial commitment to Goldfish product marketing through search channels this year. This figure provides an important baseline for evaluating campaign performance and return on investment.\\n\\n## Recommendations\\n- Compare this spend against conversion metrics to calculate cost per acquisition\\n- Analyze spend distribution across different search platforms to identify efficiency opportunities\\n- Consider evaluating spend by quarter to identify seasonal patterns\\n- Benchmark against competitor spending if such data is available\\n- Review historical spend trends to understand year-over-year growth in search investment\\n\\nThis spending figure should serve as a foundation for deeper performance analysis of the Goldfish search marketing strategy.\", \"id\": \"run-13fc9f43-1eb5-4312-8065-aa6cabd27a39-0\"}]}Agent validation succeeded! Ready to register or deploy.\n"
     ]
    }
   ],
   "source": [
    "import mlflow\n",
    "from input_examples import input_example\n",
    "\n",
    "# This assumes model_info is already defined from mlflow.pyfunc.log_model(...)\n",
    "print(\"Running pre-deployment validation...\")\n",
    "\n",
    "# Run prediction test using the model_uri (e.g. runs:/...)\n",
    "mlflow.models.predict(\n",
    "    model_uri=model_info.model_uri,\n",
    "    input_data=input_example\n",
    "    #,\n",
    "   # env_manager=\"uv\"  # Optional: only if your environment requires it\n",
    ")\n",
    "\n",
    "print(\"Agent validation succeeded! Ready to register or deploy.\")\n"
   ]
  },
  {
   "cell_type": "markdown",
   "metadata": {
    "application/vnd.databricks.v1+cell": {
     "cellMetadata": {
      "byteLimit": 2048000,
      "rowLimit": 10000
     },
     "inputWidgets": {},
     "nuid": "ac89501a-f550-49db-8862-00fe2ec813a1",
     "showTitle": false,
     "tableResultSettingsMap": {},
     "title": ""
    }
   },
   "source": [
    "# register model to Unity Catalog"
   ]
  },
  {
   "cell_type": "code",
   "execution_count": 0,
   "metadata": {
    "application/vnd.databricks.v1+cell": {
     "cellMetadata": {
      "byteLimit": 2048000,
      "rowLimit": 10000
     },
     "inputWidgets": {},
     "nuid": "d542d25e-30d9-4905-8cca-be76e961998c",
     "showTitle": false,
     "tableResultSettingsMap": {},
     "title": ""
    }
   },
   "outputs": [
    {
     "name": "stderr",
     "output_type": "stream",
     "text": [
      "Registered model 'main.retail_media.campbells_genai_versionFinal' already exists. Creating a new version of this model...\n"
     ]
    },
    {
     "data": {
      "application/vnd.jupyter.widget-view+json": {
       "model_id": "4d7a7f0c450d465ba0f80d33209af90c",
       "version_major": 2,
       "version_minor": 0
      },
      "text/plain": [
       "Downloading artifacts:   0%|          | 0/15 [00:00<?, ?it/s]"
      ]
     },
     "metadata": {},
     "output_type": "display_data"
    },
    {
     "data": {
      "application/vnd.jupyter.widget-view+json": {
       "model_id": "f4f6560380fc430eb200a34be2a02d4d",
       "version_major": 2,
       "version_minor": 0
      },
      "text/plain": [
       "Uploading artifacts:   0%|          | 0/15 [00:00<?, ?it/s]"
      ]
     },
     "metadata": {},
     "output_type": "display_data"
    },
    {
     "name": "stderr",
     "output_type": "stream",
     "text": [
      "Created version '7' of model 'main.retail_media.campbells_genai_versionfinal'.\n"
     ]
    }
   ],
   "source": [
    "mlflow.set_registry_uri(\"databricks-uc\")\n",
    "\n",
    "catalog = \"main\"\n",
    "schema = \"retail_media\"\n",
    "model_name = \"campbells_genai_versionFinal\"\n",
    "\n",
    "UC_MODEL_NAME = f\"{catalog}.{schema}.{model_name}\"\n",
    "\n",
    "uc_registered_model_info = mlflow.register_model(\n",
    "    model_uri=model_uri,\n",
    "    name=UC_MODEL_NAME\n",
    ")\n"
   ]
  },
  {
   "cell_type": "markdown",
   "metadata": {
    "application/vnd.databricks.v1+cell": {
     "cellMetadata": {
      "byteLimit": 2048000,
      "rowLimit": 10000
     },
     "inputWidgets": {},
     "nuid": "84475fc4-2e11-42eb-9111-3cc9d0fe9880",
     "showTitle": false,
     "tableResultSettingsMap": {},
     "title": ""
    }
   },
   "source": [
    "# Check the status of this model, should be 'Ready'"
   ]
  },
  {
   "cell_type": "code",
   "execution_count": 0,
   "metadata": {
    "application/vnd.databricks.v1+cell": {
     "cellMetadata": {},
     "inputWidgets": {},
     "nuid": "ac9d62a9-932b-4724-86b0-17d6c5c9bfbe",
     "showTitle": false,
     "tableResultSettingsMap": {},
     "title": ""
    }
   },
   "outputs": [],
   "source": [
    "# stop here, don't forget to change the version in the following cells to the latest one!!!\n",
    "aaa"
   ]
  },
  {
   "cell_type": "code",
   "execution_count": 0,
   "metadata": {
    "application/vnd.databricks.v1+cell": {
     "cellMetadata": {
      "byteLimit": 2048000,
      "rowLimit": 10000
     },
     "inputWidgets": {},
     "nuid": "20700b02-6e11-43f4-956c-a8ff8cddc390",
     "showTitle": false,
     "tableResultSettingsMap": {},
     "title": ""
    }
   },
   "outputs": [
    {
     "name": "stdout",
     "output_type": "stream",
     "text": [
      "Status: READY\n"
     ]
    }
   ],
   "source": [
    "from mlflow.tracking import MlflowClient\n",
    "\n",
    "client = MlflowClient(registry_uri=\"databricks-uc\")\n",
    "version_info = client.get_model_version(\n",
    "    name=\"main.retail_media.campbells_genai_versionFinal\",\n",
    "\n",
    "    version=\"7\"\n",
    ")\n",
    "print(\"Status:\", version_info.status)  # Should be \"READY\"\n"
   ]
  },
  {
   "cell_type": "code",
   "execution_count": 0,
   "metadata": {
    "application/vnd.databricks.v1+cell": {
     "cellMetadata": {
      "byteLimit": 2048000,
      "rowLimit": 10000
     },
     "inputWidgets": {},
     "nuid": "fbb53dea-377d-4f75-8147-48382df4274d",
     "showTitle": false,
     "tableResultSettingsMap": {},
     "title": ""
    }
   },
   "outputs": [],
   "source": []
  },
  {
   "cell_type": "code",
   "execution_count": 0,
   "metadata": {
    "application/vnd.databricks.v1+cell": {
     "cellMetadata": {
      "byteLimit": 2048000,
      "rowLimit": 10000
     },
     "inputWidgets": {},
     "nuid": "64d69759-ba32-4189-beab-56b5fb92891b",
     "showTitle": false,
     "tableResultSettingsMap": {},
     "title": ""
    }
   },
   "outputs": [],
   "source": [
    "# due to version dependence difference, re-install a package here before deployment"
   ]
  },
  {
   "cell_type": "code",
   "execution_count": 0,
   "metadata": {
    "application/vnd.databricks.v1+cell": {
     "cellMetadata": {
      "byteLimit": 2048000,
      "rowLimit": 10000
     },
     "inputWidgets": {},
     "nuid": "ff7fe50a-6272-44de-ba9a-ad739605caa6",
     "showTitle": false,
     "tableResultSettingsMap": {},
     "title": ""
    }
   },
   "outputs": [
    {
     "name": "stdout",
     "output_type": "stream",
     "text": [
      "Found existing installation: databricks-agents 0.18.1\n",
      "Uninstalling databricks-agents-0.18.1:\n",
      "  Successfully uninstalled databricks-agents-0.18.1\n",
      "Found existing installation: databricks-sdk 0.52.0\n",
      "Uninstalling databricks-sdk-0.52.0:\n",
      "  Successfully uninstalled databricks-sdk-0.52.0\n",
      "\u001b[43mNote: you may need to restart the kernel using %restart_python or dbutils.library.restartPython() to use updated packages.\u001b[0m\n",
      "Collecting databricks-agents\n",
      "  Obtaining dependency information for databricks-agents from https://files.pythonhosted.org/packages/89/2f/86b47ea14fd09ad0e321e3c3173bacf4a115a57fbb5aeacfa34202269b08/databricks_agents-0.21.2-py3-none-any.whl.metadata\n",
      "  Using cached databricks_agents-0.21.2-py3-none-any.whl.metadata (3.5 kB)\n",
      "Requirement already satisfied: databricks-sdk in /databricks/python3/lib/python3.11/site-packages (0.20.0)\n",
      "Collecting databricks-sdk\n",
      "  Obtaining dependency information for databricks-sdk from https://files.pythonhosted.org/packages/80/ab/3bf8aaa39dad6c8b270176f60ae0f88928d3e16aeb2c6920dbd99ec280e2/databricks_sdk-0.52.0-py3-none-any.whl.metadata\n",
      "  Using cached databricks_sdk-0.52.0-py3-none-any.whl.metadata (39 kB)\n",
      "Requirement already satisfied: databricks-connect in /local_disk0/.ephemeral_nfs/envs/pythonEnv-5ac1a891-a479-4c27-a277-95347ce1670a/lib/python3.11/site-packages (from databricks-agents) (16.1.4)\n",
      "Requirement already satisfied: dataclasses-json in /local_disk0/.ephemeral_nfs/envs/pythonEnv-5ac1a891-a479-4c27-a277-95347ce1670a/lib/python3.11/site-packages (from databricks-agents) (0.6.7)\n",
      "Requirement already satisfied: jinja2>=3.0.0 in /local_disk0/.ephemeral_nfs/envs/pythonEnv-5ac1a891-a479-4c27-a277-95347ce1670a/lib/python3.11/site-packages (from databricks-agents) (3.1.6)\n",
      "Collecting mlflow[databricks]<3.0,>=2.22.0 (from databricks-agents)\n",
      "  Obtaining dependency information for mlflow[databricks]<3.0,>=2.22.0 from https://files.pythonhosted.org/packages/28/8f/b3bdbaf3f060801e5d8b7b7f3b67c79e3d12939c67002f9a618150317a29/mlflow-2.22.0-py3-none-any.whl.metadata\n",
      "  Using cached mlflow-2.22.0-py3-none-any.whl.metadata (30 kB)\n",
      "Requirement already satisfied: tenacity>=8.5 in /local_disk0/.ephemeral_nfs/envs/pythonEnv-5ac1a891-a479-4c27-a277-95347ce1670a/lib/python3.11/site-packages (from databricks-agents) (9.1.2)\n",
      "Requirement already satisfied: tiktoken>=0.8.0 in /local_disk0/.ephemeral_nfs/envs/pythonEnv-5ac1a891-a479-4c27-a277-95347ce1670a/lib/python3.11/site-packages (from databricks-agents) (0.9.0)\n",
      "Requirement already satisfied: tqdm in /local_disk0/.ephemeral_nfs/envs/pythonEnv-5ac1a891-a479-4c27-a277-95347ce1670a/lib/python3.11/site-packages (from databricks-agents) (4.67.1)\n",
      "Requirement already satisfied: urllib3>=2.0 in /local_disk0/.ephemeral_nfs/envs/pythonEnv-5ac1a891-a479-4c27-a277-95347ce1670a/lib/python3.11/site-packages (from databricks-agents) (2.0.7)\n",
      "Requirement already satisfied: requests<3,>=2.28.1 in /databricks/python3/lib/python3.11/site-packages (from databricks-sdk) (2.31.0)\n",
      "Requirement already satisfied: google-auth~=2.0 in /databricks/python3/lib/python3.11/site-packages (from databricks-sdk) (2.31.0)\n",
      "Requirement already satisfied: cachetools<6.0,>=2.0.0 in /databricks/python3/lib/python3.11/site-packages (from google-auth~=2.0->databricks-sdk) (5.3.3)\n",
      "Requirement already satisfied: pyasn1-modules>=0.2.1 in /databricks/python3/lib/python3.11/site-packages (from google-auth~=2.0->databricks-sdk) (0.2.8)\n",
      "Requirement already satisfied: rsa<5,>=3.1.4 in /databricks/python3/lib/python3.11/site-packages (from google-auth~=2.0->databricks-sdk) (4.9)\n",
      "Requirement already satisfied: MarkupSafe>=2.0 in /local_disk0/.ephemeral_nfs/envs/pythonEnv-5ac1a891-a479-4c27-a277-95347ce1670a/lib/python3.11/site-packages (from jinja2>=3.0.0->databricks-agents) (3.0.2)\n",
      "Collecting mlflow-skinny==2.22.0 (from mlflow[databricks]<3.0,>=2.22.0->databricks-agents)\n",
      "  Obtaining dependency information for mlflow-skinny==2.22.0 from https://files.pythonhosted.org/packages/f4/eb/53dd2a5db1040a21da2980c382ebe3a9bda2d8af8365c2d01053c924b150/mlflow_skinny-2.22.0-py3-none-any.whl.metadata\n",
      "  Using cached mlflow_skinny-2.22.0-py3-none-any.whl.metadata (31 kB)\n",
      "Requirement already satisfied: Flask<4 in /local_disk0/.ephemeral_nfs/envs/pythonEnv-5ac1a891-a479-4c27-a277-95347ce1670a/lib/python3.11/site-packages (from mlflow[databricks]<3.0,>=2.22.0->databricks-agents) (3.1.0)\n",
      "Requirement already satisfied: alembic!=1.10.0,<2 in /local_disk0/.ephemeral_nfs/envs/pythonEnv-5ac1a891-a479-4c27-a277-95347ce1670a/lib/python3.11/site-packages (from mlflow[databricks]<3.0,>=2.22.0->databricks-agents) (1.15.2)\n",
      "Requirement already satisfied: docker<8,>=4.0.0 in /local_disk0/.ephemeral_nfs/envs/pythonEnv-5ac1a891-a479-4c27-a277-95347ce1670a/lib/python3.11/site-packages (from mlflow[databricks]<3.0,>=2.22.0->databricks-agents) (7.1.0)\n",
      "Requirement already satisfied: graphene<4 in /local_disk0/.ephemeral_nfs/envs/pythonEnv-5ac1a891-a479-4c27-a277-95347ce1670a/lib/python3.11/site-packages (from mlflow[databricks]<3.0,>=2.22.0->databricks-agents) (3.4.3)\n",
      "Requirement already satisfied: gunicorn<24 in /local_disk0/.ephemeral_nfs/envs/pythonEnv-5ac1a891-a479-4c27-a277-95347ce1670a/lib/python3.11/site-packages (from mlflow[databricks]<3.0,>=2.22.0->databricks-agents) (23.0.0)\n",
      "Requirement already satisfied: markdown<4,>=3.3 in /local_disk0/.ephemeral_nfs/envs/pythonEnv-5ac1a891-a479-4c27-a277-95347ce1670a/lib/python3.11/site-packages (from mlflow[databricks]<3.0,>=2.22.0->databricks-agents) (3.8)\n",
      "Requirement already satisfied: matplotlib<4 in /databricks/python3/lib/python3.11/site-packages (from mlflow[databricks]<3.0,>=2.22.0->databricks-agents) (3.7.2)\n",
      "Requirement already satisfied: numpy<3 in /databricks/python3/lib/python3.11/site-packages (from mlflow[databricks]<3.0,>=2.22.0->databricks-agents) (1.23.5)\n",
      "Requirement already satisfied: pandas<3 in /databricks/python3/lib/python3.11/site-packages (from mlflow[databricks]<3.0,>=2.22.0->databricks-agents) (1.5.3)\n",
      "Requirement already satisfied: pyarrow<20,>=4.0.0 in /databricks/python3/lib/python3.11/site-packages (from mlflow[databricks]<3.0,>=2.22.0->databricks-agents) (14.0.1)\n",
      "Requirement already satisfied: scikit-learn<2 in /databricks/python3/lib/python3.11/site-packages (from mlflow[databricks]<3.0,>=2.22.0->databricks-agents) (1.3.0)\n",
      "Requirement already satisfied: scipy<2 in /databricks/python3/lib/python3.11/site-packages (from mlflow[databricks]<3.0,>=2.22.0->databricks-agents) (1.11.1)\n",
      "Requirement already satisfied: sqlalchemy<3,>=1.4.0 in /local_disk0/.ephemeral_nfs/envs/pythonEnv-5ac1a891-a479-4c27-a277-95347ce1670a/lib/python3.11/site-packages (from mlflow[databricks]<3.0,>=2.22.0->databricks-agents) (2.0.40)\n",
      "Requirement already satisfied: azure-storage-file-datalake>12 in /databricks/python3/lib/python3.11/site-packages (from mlflow[databricks]<3.0,>=2.22.0->databricks-agents) (12.14.0)\n",
      "Requirement already satisfied: google-cloud-storage>=1.30.0 in /databricks/python3/lib/python3.11/site-packages (from mlflow[databricks]<3.0,>=2.22.0->databricks-agents) (2.17.0)\n",
      "Requirement already satisfied: boto3>1 in /databricks/python3/lib/python3.11/site-packages (from mlflow[databricks]<3.0,>=2.22.0->databricks-agents) (1.34.39)\n",
      "Requirement already satisfied: botocore in /databricks/python3/lib/python3.11/site-packages (from mlflow[databricks]<3.0,>=2.22.0->databricks-agents) (1.34.39)\n",
      "Requirement already satisfied: click<9,>=7.0 in /local_disk0/.ephemeral_nfs/envs/pythonEnv-5ac1a891-a479-4c27-a277-95347ce1670a/lib/python3.11/site-packages (from mlflow-skinny==2.22.0->mlflow[databricks]<3.0,>=2.22.0->databricks-agents) (8.2.0)\n",
      "Requirement already satisfied: cloudpickle<4 in /databricks/python3/lib/python3.11/site-packages (from mlflow-skinny==2.22.0->mlflow[databricks]<3.0,>=2.22.0->databricks-agents) (2.2.1)\n",
      "Requirement already satisfied: fastapi<1 in /local_disk0/.ephemeral_nfs/envs/pythonEnv-5ac1a891-a479-4c27-a277-95347ce1670a/lib/python3.11/site-packages (from mlflow-skinny==2.22.0->mlflow[databricks]<3.0,>=2.22.0->databricks-agents) (0.115.12)\n",
      "Requirement already satisfied: gitpython<4,>=3.1.9 in /databricks/python3/lib/python3.11/site-packages (from mlflow-skinny==2.22.0->mlflow[databricks]<3.0,>=2.22.0->databricks-agents) (3.1.43)\n",
      "Requirement already satisfied: importlib_metadata!=4.7.0,<9,>=3.7.0 in /databricks/python3/lib/python3.11/site-packages (from mlflow-skinny==2.22.0->mlflow[databricks]<3.0,>=2.22.0->databricks-agents) (6.0.0)\n",
      "Requirement already satisfied: opentelemetry-api<3,>=1.9.0 in /local_disk0/.ephemeral_nfs/envs/pythonEnv-5ac1a891-a479-4c27-a277-95347ce1670a/lib/python3.11/site-packages (from mlflow-skinny==2.22.0->mlflow[databricks]<3.0,>=2.22.0->databricks-agents) (1.33.0)\n",
      "Requirement already satisfied: opentelemetry-sdk<3,>=1.9.0 in /local_disk0/.ephemeral_nfs/envs/pythonEnv-5ac1a891-a479-4c27-a277-95347ce1670a/lib/python3.11/site-packages (from mlflow-skinny==2.22.0->mlflow[databricks]<3.0,>=2.22.0->databricks-agents) (1.33.0)\n",
      "Requirement already satisfied: packaging<25 in /databricks/python3/lib/python3.11/site-packages (from mlflow-skinny==2.22.0->mlflow[databricks]<3.0,>=2.22.0->databricks-agents) (23.2)\n",
      "Requirement already satisfied: protobuf<7,>=3.12.0 in /databricks/python3/lib/python3.11/site-packages (from mlflow-skinny==2.22.0->mlflow[databricks]<3.0,>=2.22.0->databricks-agents) (4.24.1)\n",
      "Requirement already satisfied: pydantic<3,>=1.10.8 in /local_disk0/.ephemeral_nfs/envs/pythonEnv-5ac1a891-a479-4c27-a277-95347ce1670a/lib/python3.11/site-packages (from mlflow-skinny==2.22.0->mlflow[databricks]<3.0,>=2.22.0->databricks-agents) (2.10.1)\n",
      "Requirement already satisfied: pyyaml<7,>=5.1 in /databricks/python3/lib/python3.11/site-packages (from mlflow-skinny==2.22.0->mlflow[databricks]<3.0,>=2.22.0->databricks-agents) (6.0)\n",
      "Requirement already satisfied: sqlparse<1,>=0.4.0 in /databricks/python3/lib/python3.11/site-packages (from mlflow-skinny==2.22.0->mlflow[databricks]<3.0,>=2.22.0->databricks-agents) (0.5.0)\n",
      "Requirement already satisfied: typing-extensions<5,>=4.0.0 in /local_disk0/.ephemeral_nfs/envs/pythonEnv-5ac1a891-a479-4c27-a277-95347ce1670a/lib/python3.11/site-packages (from mlflow-skinny==2.22.0->mlflow[databricks]<3.0,>=2.22.0->databricks-agents) (4.13.2)\n",
      "Requirement already satisfied: uvicorn<1 in /local_disk0/.ephemeral_nfs/envs/pythonEnv-5ac1a891-a479-4c27-a277-95347ce1670a/lib/python3.11/site-packages (from mlflow-skinny==2.22.0->mlflow[databricks]<3.0,>=2.22.0->databricks-agents) (0.34.2)\n",
      "Requirement already satisfied: charset-normalizer<4,>=2 in /databricks/python3/lib/python3.11/site-packages (from requests<3,>=2.28.1->databricks-sdk) (2.0.4)\n",
      "Requirement already satisfied: idna<4,>=2.5 in /databricks/python3/lib/python3.11/site-packages (from requests<3,>=2.28.1->databricks-sdk) (3.4)\n",
      "Requirement already satisfied: certifi>=2017.4.17 in /databricks/python3/lib/python3.11/site-packages (from requests<3,>=2.28.1->databricks-sdk) (2023.7.22)\n",
      "Requirement already satisfied: regex>=2022.1.18 in /local_disk0/.ephemeral_nfs/envs/pythonEnv-5ac1a891-a479-4c27-a277-95347ce1670a/lib/python3.11/site-packages (from tiktoken>=0.8.0->databricks-agents) (2024.11.6)\n",
      "Requirement already satisfied: googleapis-common-protos>=1.56.4 in /databricks/python3/lib/python3.11/site-packages (from databricks-connect->databricks-agents) (1.63.2)\n",
      "Requirement already satisfied: grpcio-status>=1.59.3 in /databricks/python3/lib/python3.11/site-packages (from databricks-connect->databricks-agents) (1.60.0)\n",
      "Requirement already satisfied: grpcio>=1.59.3 in /databricks/python3/lib/python3.11/site-packages (from databricks-connect->databricks-agents) (1.60.0)\n",
      "Requirement already satisfied: py4j==0.10.9.7 in /local_disk0/.ephemeral_nfs/envs/pythonEnv-5ac1a891-a479-4c27-a277-95347ce1670a/lib/python3.11/site-packages (from databricks-connect->databricks-agents) (0.10.9.7)\n",
      "Requirement already satisfied: setuptools>=68.0.0 in /databricks/python3/lib/python3.11/site-packages (from databricks-connect->databricks-agents) (68.0.0)\n",
      "Requirement already satisfied: six in /usr/lib/python3/dist-packages (from databricks-connect->databricks-agents) (1.16.0)\n",
      "Requirement already satisfied: marshmallow<4.0.0,>=3.18.0 in /local_disk0/.ephemeral_nfs/envs/pythonEnv-5ac1a891-a479-4c27-a277-95347ce1670a/lib/python3.11/site-packages (from dataclasses-json->databricks-agents) (3.26.1)\n",
      "Requirement already satisfied: typing-inspect<1,>=0.4.0 in /local_disk0/.ephemeral_nfs/envs/pythonEnv-5ac1a891-a479-4c27-a277-95347ce1670a/lib/python3.11/site-packages (from dataclasses-json->databricks-agents) (0.9.0)\n",
      "Requirement already satisfied: Mako in /local_disk0/.ephemeral_nfs/envs/pythonEnv-5ac1a891-a479-4c27-a277-95347ce1670a/lib/python3.11/site-packages (from alembic!=1.10.0,<2->mlflow[databricks]<3.0,>=2.22.0->databricks-agents) (1.3.10)\n",
      "Requirement already satisfied: azure-core<2.0.0,>=1.28.0 in /databricks/python3/lib/python3.11/site-packages (from azure-storage-file-datalake>12->mlflow[databricks]<3.0,>=2.22.0->databricks-agents) (1.30.2)\n",
      "Requirement already satisfied: azure-storage-blob<13.0.0,>=12.19.0 in /databricks/python3/lib/python3.11/site-packages (from azure-storage-file-datalake>12->mlflow[databricks]<3.0,>=2.22.0->databricks-agents) (12.19.1)\n",
      "Requirement already satisfied: isodate>=0.6.1 in /databricks/python3/lib/python3.11/site-packages (from azure-storage-file-datalake>12->mlflow[databricks]<3.0,>=2.22.0->databricks-agents) (0.6.1)\n",
      "Requirement already satisfied: jmespath<2.0.0,>=0.7.1 in /databricks/python3/lib/python3.11/site-packages (from boto3>1->mlflow[databricks]<3.0,>=2.22.0->databricks-agents) (0.10.0)\n",
      "Requirement already satisfied: s3transfer<0.11.0,>=0.10.0 in /databricks/python3/lib/python3.11/site-packages (from boto3>1->mlflow[databricks]<3.0,>=2.22.0->databricks-agents) (0.10.2)\n",
      "Requirement already satisfied: python-dateutil<3.0.0,>=2.1 in /databricks/python3/lib/python3.11/site-packages (from botocore->mlflow[databricks]<3.0,>=2.22.0->databricks-agents) (2.8.2)\n",
      "Requirement already satisfied: Werkzeug>=3.1 in /local_disk0/.ephemeral_nfs/envs/pythonEnv-5ac1a891-a479-4c27-a277-95347ce1670a/lib/python3.11/site-packages (from Flask<4->mlflow[databricks]<3.0,>=2.22.0->databricks-agents) (3.1.3)\n",
      "Requirement already satisfied: itsdangerous>=2.2 in /local_disk0/.ephemeral_nfs/envs/pythonEnv-5ac1a891-a479-4c27-a277-95347ce1670a/lib/python3.11/site-packages (from Flask<4->mlflow[databricks]<3.0,>=2.22.0->databricks-agents) (2.2.0)\n",
      "Requirement already satisfied: blinker>=1.9 in /local_disk0/.ephemeral_nfs/envs/pythonEnv-5ac1a891-a479-4c27-a277-95347ce1670a/lib/python3.11/site-packages (from Flask<4->mlflow[databricks]<3.0,>=2.22.0->databricks-agents) (1.9.0)\n",
      "Requirement already satisfied: google-api-core<3.0.0dev,>=2.15.0 in /databricks/python3/lib/python3.11/site-packages (from google-cloud-storage>=1.30.0->mlflow[databricks]<3.0,>=2.22.0->databricks-agents) (2.18.0)\n",
      "Requirement already satisfied: google-cloud-core<3.0dev,>=2.3.0 in /databricks/python3/lib/python3.11/site-packages (from google-cloud-storage>=1.30.0->mlflow[databricks]<3.0,>=2.22.0->databricks-agents) (2.4.1)\n",
      "Requirement already satisfied: google-resumable-media>=2.6.0 in /databricks/python3/lib/python3.11/site-packages (from google-cloud-storage>=1.30.0->mlflow[databricks]<3.0,>=2.22.0->databricks-agents) (2.7.1)\n",
      "Requirement already satisfied: google-crc32c<2.0dev,>=1.0 in /databricks/python3/lib/python3.11/site-packages (from google-cloud-storage>=1.30.0->mlflow[databricks]<3.0,>=2.22.0->databricks-agents) (1.5.0)\n",
      "Requirement already satisfied: graphql-core<3.3,>=3.1 in /local_disk0/.ephemeral_nfs/envs/pythonEnv-5ac1a891-a479-4c27-a277-95347ce1670a/lib/python3.11/site-packages (from graphene<4->mlflow[databricks]<3.0,>=2.22.0->databricks-agents) (3.2.6)\n",
      "Requirement already satisfied: graphql-relay<3.3,>=3.1 in /local_disk0/.ephemeral_nfs/envs/pythonEnv-5ac1a891-a479-4c27-a277-95347ce1670a/lib/python3.11/site-packages (from graphene<4->mlflow[databricks]<3.0,>=2.22.0->databricks-agents) (3.2.0)\n",
      "Requirement already satisfied: contourpy>=1.0.1 in /databricks/python3/lib/python3.11/site-packages (from matplotlib<4->mlflow[databricks]<3.0,>=2.22.0->databricks-agents) (1.0.5)\n",
      "Requirement already satisfied: cycler>=0.10 in /databricks/python3/lib/python3.11/site-packages (from matplotlib<4->mlflow[databricks]<3.0,>=2.22.0->databricks-agents) (0.11.0)\n",
      "Requirement already satisfied: fonttools>=4.22.0 in /databricks/python3/lib/python3.11/site-packages (from matplotlib<4->mlflow[databricks]<3.0,>=2.22.0->databricks-agents) (4.25.0)\n",
      "Requirement already satisfied: kiwisolver>=1.0.1 in /databricks/python3/lib/python3.11/site-packages (from matplotlib<4->mlflow[databricks]<3.0,>=2.22.0->databricks-agents) (1.4.4)\n",
      "Requirement already satisfied: pillow>=6.2.0 in /databricks/python3/lib/python3.11/site-packages (from matplotlib<4->mlflow[databricks]<3.0,>=2.22.0->databricks-agents) (9.4.0)\n",
      "Requirement already satisfied: pyparsing<3.1,>=2.3.1 in /databricks/python3/lib/python3.11/site-packages (from matplotlib<4->mlflow[databricks]<3.0,>=2.22.0->databricks-agents) (3.0.9)\n",
      "Requirement already satisfied: pytz>=2020.1 in /databricks/python3/lib/python3.11/site-packages (from pandas<3->mlflow[databricks]<3.0,>=2.22.0->databricks-agents) (2022.7)\n",
      "Requirement already satisfied: pyasn1<0.5.0,>=0.4.6 in /databricks/python3/lib/python3.11/site-packages (from pyasn1-modules>=0.2.1->google-auth~=2.0->databricks-sdk) (0.4.8)\n",
      "Requirement already satisfied: joblib>=1.1.1 in /databricks/python3/lib/python3.11/site-packages (from scikit-learn<2->mlflow[databricks]<3.0,>=2.22.0->databricks-agents) (1.2.0)\n",
      "Requirement already satisfied: threadpoolctl>=2.0.0 in /databricks/python3/lib/python3.11/site-packages (from scikit-learn<2->mlflow[databricks]<3.0,>=2.22.0->databricks-agents) (2.2.0)\n",
      "Requirement already satisfied: greenlet>=1 in /local_disk0/.ephemeral_nfs/envs/pythonEnv-5ac1a891-a479-4c27-a277-95347ce1670a/lib/python3.11/site-packages (from sqlalchemy<3,>=1.4.0->mlflow[databricks]<3.0,>=2.22.0->databricks-agents) (3.2.2)\n",
      "Requirement already satisfied: mypy-extensions>=0.3.0 in /databricks/python3/lib/python3.11/site-packages (from typing-inspect<1,>=0.4.0->dataclasses-json->databricks-agents) (0.4.3)\n",
      "Requirement already satisfied: cryptography>=2.1.4 in /databricks/python3/lib/python3.11/site-packages (from azure-storage-blob<13.0.0,>=12.19.0->azure-storage-file-datalake>12->mlflow[databricks]<3.0,>=2.22.0->databricks-agents) (41.0.3)\n",
      "Requirement already satisfied: starlette<0.47.0,>=0.40.0 in /local_disk0/.ephemeral_nfs/envs/pythonEnv-5ac1a891-a479-4c27-a277-95347ce1670a/lib/python3.11/site-packages (from fastapi<1->mlflow-skinny==2.22.0->mlflow[databricks]<3.0,>=2.22.0->databricks-agents) (0.46.2)\n",
      "Requirement already satisfied: gitdb<5,>=4.0.1 in /databricks/python3/lib/python3.11/site-packages (from gitpython<4,>=3.1.9->mlflow-skinny==2.22.0->mlflow[databricks]<3.0,>=2.22.0->databricks-agents) (4.0.11)\n",
      "Requirement already satisfied: proto-plus<2.0.0dev,>=1.22.3 in /databricks/python3/lib/python3.11/site-packages (from google-api-core<3.0.0dev,>=2.15.0->google-cloud-storage>=1.30.0->mlflow[databricks]<3.0,>=2.22.0->databricks-agents) (1.24.0)\n",
      "Requirement already satisfied: zipp>=0.5 in /databricks/python3/lib/python3.11/site-packages (from importlib_metadata!=4.7.0,<9,>=3.7.0->mlflow-skinny==2.22.0->mlflow[databricks]<3.0,>=2.22.0->databricks-agents) (3.11.0)\n",
      "Requirement already satisfied: deprecated>=1.2.6 in /local_disk0/.ephemeral_nfs/envs/pythonEnv-5ac1a891-a479-4c27-a277-95347ce1670a/lib/python3.11/site-packages (from opentelemetry-api<3,>=1.9.0->mlflow-skinny==2.22.0->mlflow[databricks]<3.0,>=2.22.0->databricks-agents) (1.2.18)\n",
      "Requirement already satisfied: opentelemetry-semantic-conventions==0.54b0 in /local_disk0/.ephemeral_nfs/envs/pythonEnv-5ac1a891-a479-4c27-a277-95347ce1670a/lib/python3.11/site-packages (from opentelemetry-sdk<3,>=1.9.0->mlflow-skinny==2.22.0->mlflow[databricks]<3.0,>=2.22.0->databricks-agents) (0.54b0)\n",
      "Requirement already satisfied: annotated-types>=0.6.0 in /local_disk0/.ephemeral_nfs/envs/pythonEnv-5ac1a891-a479-4c27-a277-95347ce1670a/lib/python3.11/site-packages (from pydantic<3,>=1.10.8->mlflow-skinny==2.22.0->mlflow[databricks]<3.0,>=2.22.0->databricks-agents) (0.7.0)\n",
      "Requirement already satisfied: pydantic-core==2.27.1 in /local_disk0/.ephemeral_nfs/envs/pythonEnv-5ac1a891-a479-4c27-a277-95347ce1670a/lib/python3.11/site-packages (from pydantic<3,>=1.10.8->mlflow-skinny==2.22.0->mlflow[databricks]<3.0,>=2.22.0->databricks-agents) (2.27.1)\n",
      "Requirement already satisfied: h11>=0.8 in /local_disk0/.ephemeral_nfs/envs/pythonEnv-5ac1a891-a479-4c27-a277-95347ce1670a/lib/python3.11/site-packages (from uvicorn<1->mlflow-skinny==2.22.0->mlflow[databricks]<3.0,>=2.22.0->databricks-agents) (0.16.0)\n",
      "Requirement already satisfied: cffi>=1.12 in /databricks/python3/lib/python3.11/site-packages (from cryptography>=2.1.4->azure-storage-blob<13.0.0,>=12.19.0->azure-storage-file-datalake>12->mlflow[databricks]<3.0,>=2.22.0->databricks-agents) (1.15.1)\n",
      "Requirement already satisfied: wrapt<2,>=1.10 in /local_disk0/.ephemeral_nfs/envs/pythonEnv-5ac1a891-a479-4c27-a277-95347ce1670a/lib/python3.11/site-packages (from deprecated>=1.2.6->opentelemetry-api<3,>=1.9.0->mlflow-skinny==2.22.0->mlflow[databricks]<3.0,>=2.22.0->databricks-agents) (1.17.2)\n",
      "Requirement already satisfied: smmap<6,>=3.0.1 in /databricks/python3/lib/python3.11/site-packages (from gitdb<5,>=4.0.1->gitpython<4,>=3.1.9->mlflow-skinny==2.22.0->mlflow[databricks]<3.0,>=2.22.0->databricks-agents) (5.0.1)\n",
      "Requirement already satisfied: anyio<5,>=3.6.2 in /local_disk0/.ephemeral_nfs/envs/pythonEnv-5ac1a891-a479-4c27-a277-95347ce1670a/lib/python3.11/site-packages (from starlette<0.47.0,>=0.40.0->fastapi<1->mlflow-skinny==2.22.0->mlflow[databricks]<3.0,>=2.22.0->databricks-agents) (4.9.0)\n",
      "Requirement already satisfied: sniffio>=1.1 in /local_disk0/.ephemeral_nfs/envs/pythonEnv-5ac1a891-a479-4c27-a277-95347ce1670a/lib/python3.11/site-packages (from anyio<5,>=3.6.2->starlette<0.47.0,>=0.40.0->fastapi<1->mlflow-skinny==2.22.0->mlflow[databricks]<3.0,>=2.22.0->databricks-agents) (1.3.1)\n",
      "Requirement already satisfied: pycparser in /databricks/python3/lib/python3.11/site-packages (from cffi>=1.12->cryptography>=2.1.4->azure-storage-blob<13.0.0,>=12.19.0->azure-storage-file-datalake>12->mlflow[databricks]<3.0,>=2.22.0->databricks-agents) (2.21)\n",
      "Using cached databricks_agents-0.21.2-py3-none-any.whl (183 kB)\n",
      "Using cached databricks_sdk-0.52.0-py3-none-any.whl (700 kB)\n",
      "Using cached mlflow_skinny-2.22.0-py3-none-any.whl (6.3 MB)\n",
      "Using cached mlflow-2.22.0-py3-none-any.whl (29.0 MB)\n",
      "Installing collected packages: databricks-sdk, mlflow-skinny, mlflow, databricks-agents\n",
      "  Attempting uninstall: databricks-sdk\n",
      "    Found existing installation: databricks-sdk 0.20.0\n",
      "    Not uninstalling databricks-sdk at /databricks/python3/lib/python3.11/site-packages, outside environment /local_disk0/.ephemeral_nfs/envs/pythonEnv-5ac1a891-a479-4c27-a277-95347ce1670a\n",
      "    Can't uninstall 'databricks-sdk'. No files were found to uninstall.\n",
      "  Attempting uninstall: mlflow-skinny\n",
      "    Found existing installation: mlflow-skinny 2.21.2\n",
      "    Uninstalling mlflow-skinny-2.21.2:\n",
      "      Successfully uninstalled mlflow-skinny-2.21.2\n",
      "  Attempting uninstall: mlflow\n",
      "    Found existing installation: mlflow 2.21.2\n",
      "    Uninstalling mlflow-2.21.2:\n",
      "      Successfully uninstalled mlflow-2.21.2\n",
      "Successfully installed databricks-agents-0.21.2 databricks-sdk-0.52.0 mlflow-2.22.0 mlflow-skinny-2.22.0\n",
      "\u001b[43mNote: you may need to restart the kernel using %restart_python or dbutils.library.restartPython() to use updated packages.\u001b[0m\n"
     ]
    }
   ],
   "source": [
    "%pip uninstall -y databricks-agents databricks-sdk\n",
    "%pip install --upgrade databricks-agents databricks-sdk\n",
    "dbutils.library.restartPython()"
   ]
  },
  {
   "cell_type": "code",
   "execution_count": 0,
   "metadata": {
    "application/vnd.databricks.v1+cell": {
     "cellMetadata": {
      "byteLimit": 2048000,
      "rowLimit": 10000
     },
     "inputWidgets": {},
     "nuid": "ad5a5967-d005-4b7b-aa75-db161819229b",
     "showTitle": false,
     "tableResultSettingsMap": {},
     "title": ""
    }
   },
   "outputs": [],
   "source": [
    "# if the next cell fails, just try run the cell again. It will work during the second run."
   ]
  },
  {
   "cell_type": "markdown",
   "metadata": {
    "application/vnd.databricks.v1+cell": {
     "cellMetadata": {},
     "inputWidgets": {},
     "nuid": "048c361d-23b6-448a-beb9-0c266b83ba01",
     "showTitle": false,
     "tableResultSettingsMap": {},
     "title": ""
    }
   },
   "source": [
    "# Deploy to endpoint and get the review app"
   ]
  },
  {
   "cell_type": "code",
   "execution_count": 0,
   "metadata": {
    "application/vnd.databricks.v1+cell": {
     "cellMetadata": {
      "byteLimit": 2048000,
      "rowLimit": 10000
     },
     "inputWidgets": {},
     "nuid": "1d228c66-2033-4d68-b2f2-56142bef18ff",
     "showTitle": false,
     "tableResultSettingsMap": {},
     "title": ""
    }
   },
   "outputs": [
    {
     "data": {
      "application/vnd.jupyter.widget-view+json": {
       "model_id": "8a1ca3d1de9a43bab1168ef24123d013",
       "version_major": 2,
       "version_minor": 0
      },
      "text/plain": [
       "Downloading artifacts:   0%|          | 0/1 [00:00<?, ?it/s]"
      ]
     },
     "metadata": {},
     "output_type": "display_data"
    },
    {
     "data": {
      "application/vnd.jupyter.widget-view+json": {
       "model_id": "1ef8aedac2de4918afaecf04be4e47bf",
       "version_major": 2,
       "version_minor": 0
      },
      "text/plain": [
       "Downloading artifacts:   0%|          | 0/1 [00:00<?, ?it/s]"
      ]
     },
     "metadata": {},
     "output_type": "display_data"
    },
    {
     "name": "stdout",
     "output_type": "stream",
     "text": [
      "\n",
      "    Deployment of main.retail_media.campbells_genai_versionFinal version 7 initiated.  This can take up to 15 minutes and the Review App & Query Endpoint will not work until this deployment finishes.\n",
      "\n",
      "    View status: https://adb-3675705922506081.1.azuredatabricks.net/ml/endpoints/agents_main-retail_media-campbells_genai_versionFinal\n",
      "    Review App: https://adb-3675705922506081.1.azuredatabricks.net/ml/review-v2/c1a2009f35584c18b4267e0574a549d8/chat\n",
      "✅ Endpoint deployed at: https://adb-3675705922506081.1.azuredatabricks.net/ml/endpoints/agents_main-retail_media-campbells_genai_versionFinal\n"
     ]
    }
   ],
   "source": [
    "from databricks import agents\n",
    "# model details\n",
    "UC_MODEL_NAME = \"main.retail_media.???????????????\"  # fill in here\n",
    "\n",
    "UC_MODEL_VERSION = \"7\"\n",
    "\n",
    "# Deploy to endpoint\n",
    "deployment_info = agents.deploy(\n",
    "    UC_MODEL_NAME,\n",
    "    UC_MODEL_VERSION,\n",
    "    #endpoint_name=\"agents_main-retail_media-campbells_genai_ey\",  # optional but good to specify\n",
    "    tags={\"endpointSource\": \"campbells_deploy_ey\"},\n",
    "    environment_vars={\n",
    "        \"DATABRICKS_GENIE_PAT\": \"??????????????????\"   # fill in here\n",
    "           \n",
    "    }\n",
    ")\n",
    "\n",
    "print(\"✅ Endpoint deployed at:\", deployment_info.endpoint_url)\n"
   ]
  },
  {
   "cell_type": "markdown",
   "metadata": {
    "application/vnd.databricks.v1+cell": {
     "cellMetadata": {
      "byteLimit": 2048000,
      "rowLimit": 10000
     },
     "inputWidgets": {},
     "nuid": "9298e31b-c4f3-4f84-a0b7-a1498ceb53d5",
     "showTitle": false,
     "tableResultSettingsMap": {},
     "title": ""
    }
   },
   "source": [
    "# Done!!!"
   ]
  },
  {
   "cell_type": "markdown",
   "metadata": {
    "application/vnd.databricks.v1+cell": {
     "cellMetadata": {
      "byteLimit": 2048000,
      "rowLimit": 10000
     },
     "inputWidgets": {},
     "nuid": "1e7cd41f-f3a5-4955-a08d-842ef9c6f1f0",
     "showTitle": false,
     "tableResultSettingsMap": {},
     "title": ""
    }
   },
   "source": [
    "# Example Use in notebook, \n",
    "## we are able to see the trace here in this notebook. But in the review app we don't show trace for clean interface."
   ]
  },
  {
   "cell_type": "code",
   "execution_count": 0,
   "metadata": {
    "application/vnd.databricks.v1+cell": {
     "cellMetadata": {
      "byteLimit": 2048000,
      "rowLimit": 10000
     },
     "inputWidgets": {},
     "nuid": "cce2f2e6-962e-4378-9177-bb4727b7f2c5",
     "showTitle": false,
     "tableResultSettingsMap": {},
     "title": ""
    }
   },
   "outputs": [
    {
     "data": {
      "text/plain": [
       "\u001b[0;31m---------------------------------------------------------------------------\u001b[0m\n",
       "\u001b[0;31mBadRequest\u001b[0m                                Traceback (most recent call last)\n",
       "File \u001b[0;32m/local_disk0/.ephemeral_nfs/envs/pythonEnv-5ac1a891-a479-4c27-a277-95347ce1670a/lib/python3.11/site-packages/databricks/agents/deployments.py:728\u001b[0m, in \u001b[0;36mdeploy\u001b[0;34m(model_name, model_version, scale_to_zero, environment_vars, instance_profile_arn, tags, workload_size, endpoint_name, budget_policy_id, **kwargs)\u001b[0m\n",
       "\u001b[1;32m    723\u001b[0m \u001b[38;5;28;01mtry\u001b[39;00m:\n",
       "\u001b[1;32m    724\u001b[0m     \u001b[38;5;66;03m# Here we don't need to update the ai-gateway config since using the put_ai_gateway throws an error\u001b[39;00m\n",
       "\u001b[1;32m    725\u001b[0m     \u001b[38;5;66;03m# \"Inference tables is already enabled\". Also the ai-gateway is never part of the pending config,\u001b[39;00m\n",
       "\u001b[1;32m    726\u001b[0m     \u001b[38;5;66;03m# it is associated with the endpoint directly.\u001b[39;00m\n",
       "\u001b[1;32m    727\u001b[0m     \u001b[38;5;66;03m# Read https://github.com/databricks-eng/universe/pull/874814#discussion_r1920845945 for more info\u001b[39;00m\n",
       "\u001b[0;32m--> 728\u001b[0m     w\u001b[38;5;241m.\u001b[39mserving_endpoints\u001b[38;5;241m.\u001b[39mupdate_config(\n",
       "\u001b[1;32m    729\u001b[0m         name\u001b[38;5;241m=\u001b[39mendpoint_name,\n",
       "\u001b[1;32m    730\u001b[0m         served_entities\u001b[38;5;241m=\u001b[39mupdated_served_models,\n",
       "\u001b[1;32m    731\u001b[0m         traffic_config\u001b[38;5;241m=\u001b[39mupdated_traffic_config,\n",
       "\u001b[1;32m    732\u001b[0m         auto_capture_config\u001b[38;5;241m=\u001b[39mconfig\u001b[38;5;241m.\u001b[39mauto_capture_config,\n",
       "\u001b[1;32m    733\u001b[0m     )\n",
       "\u001b[1;32m    734\u001b[0m \u001b[38;5;28;01mexcept\u001b[39;00m ResourceConflict:\n",
       "\n",
       "File \u001b[0;32m/local_disk0/.ephemeral_nfs/envs/pythonEnv-5ac1a891-a479-4c27-a277-95347ce1670a/lib/python3.11/site-packages/databricks/sdk/service/serving.py:4796\u001b[0m, in \u001b[0;36mServingEndpointsAPI.update_config\u001b[0;34m(self, name, auto_capture_config, served_entities, served_models, traffic_config)\u001b[0m\n",
       "\u001b[1;32m   4791\u001b[0m headers \u001b[38;5;241m=\u001b[39m {\n",
       "\u001b[1;32m   4792\u001b[0m     \u001b[38;5;124m\"\u001b[39m\u001b[38;5;124mAccept\u001b[39m\u001b[38;5;124m\"\u001b[39m: \u001b[38;5;124m\"\u001b[39m\u001b[38;5;124mapplication/json\u001b[39m\u001b[38;5;124m\"\u001b[39m,\n",
       "\u001b[1;32m   4793\u001b[0m     \u001b[38;5;124m\"\u001b[39m\u001b[38;5;124mContent-Type\u001b[39m\u001b[38;5;124m\"\u001b[39m: \u001b[38;5;124m\"\u001b[39m\u001b[38;5;124mapplication/json\u001b[39m\u001b[38;5;124m\"\u001b[39m,\n",
       "\u001b[1;32m   4794\u001b[0m }\n",
       "\u001b[0;32m-> 4796\u001b[0m op_response \u001b[38;5;241m=\u001b[39m \u001b[38;5;28mself\u001b[39m\u001b[38;5;241m.\u001b[39m_api\u001b[38;5;241m.\u001b[39mdo(\u001b[38;5;124m\"\u001b[39m\u001b[38;5;124mPUT\u001b[39m\u001b[38;5;124m\"\u001b[39m, \u001b[38;5;124mf\u001b[39m\u001b[38;5;124m\"\u001b[39m\u001b[38;5;124m/api/2.0/serving-endpoints/\u001b[39m\u001b[38;5;132;01m{\u001b[39;00mname\u001b[38;5;132;01m}\u001b[39;00m\u001b[38;5;124m/config\u001b[39m\u001b[38;5;124m\"\u001b[39m, body\u001b[38;5;241m=\u001b[39mbody, headers\u001b[38;5;241m=\u001b[39mheaders)\n",
       "\u001b[1;32m   4797\u001b[0m \u001b[38;5;28;01mreturn\u001b[39;00m Wait(\n",
       "\u001b[1;32m   4798\u001b[0m     \u001b[38;5;28mself\u001b[39m\u001b[38;5;241m.\u001b[39mwait_get_serving_endpoint_not_updating,\n",
       "\u001b[1;32m   4799\u001b[0m     response\u001b[38;5;241m=\u001b[39mServingEndpointDetailed\u001b[38;5;241m.\u001b[39mfrom_dict(op_response),\n",
       "\u001b[1;32m   4800\u001b[0m     name\u001b[38;5;241m=\u001b[39mop_response[\u001b[38;5;124m\"\u001b[39m\u001b[38;5;124mname\u001b[39m\u001b[38;5;124m\"\u001b[39m],\n",
       "\u001b[1;32m   4801\u001b[0m )\n",
       "\n",
       "File \u001b[0;32m/local_disk0/.ephemeral_nfs/envs/pythonEnv-5ac1a891-a479-4c27-a277-95347ce1670a/lib/python3.11/site-packages/databricks/sdk/core.py:85\u001b[0m, in \u001b[0;36mApiClient.do\u001b[0;34m(self, method, path, url, query, headers, body, raw, files, data, auth, response_headers)\u001b[0m\n",
       "\u001b[1;32m     84\u001b[0m     url \u001b[38;5;241m=\u001b[39m \u001b[38;5;124mf\u001b[39m\u001b[38;5;124m\"\u001b[39m\u001b[38;5;132;01m{\u001b[39;00m\u001b[38;5;28mself\u001b[39m\u001b[38;5;241m.\u001b[39m_cfg\u001b[38;5;241m.\u001b[39mhost\u001b[38;5;132;01m}\u001b[39;00m\u001b[38;5;132;01m{\u001b[39;00mpath\u001b[38;5;132;01m}\u001b[39;00m\u001b[38;5;124m\"\u001b[39m\n",
       "\u001b[0;32m---> 85\u001b[0m \u001b[38;5;28;01mreturn\u001b[39;00m \u001b[38;5;28mself\u001b[39m\u001b[38;5;241m.\u001b[39m_api_client\u001b[38;5;241m.\u001b[39mdo(\n",
       "\u001b[1;32m     86\u001b[0m     method\u001b[38;5;241m=\u001b[39mmethod,\n",
       "\u001b[1;32m     87\u001b[0m     url\u001b[38;5;241m=\u001b[39murl,\n",
       "\u001b[1;32m     88\u001b[0m     query\u001b[38;5;241m=\u001b[39mquery,\n",
       "\u001b[1;32m     89\u001b[0m     headers\u001b[38;5;241m=\u001b[39mheaders,\n",
       "\u001b[1;32m     90\u001b[0m     body\u001b[38;5;241m=\u001b[39mbody,\n",
       "\u001b[1;32m     91\u001b[0m     raw\u001b[38;5;241m=\u001b[39mraw,\n",
       "\u001b[1;32m     92\u001b[0m     files\u001b[38;5;241m=\u001b[39mfiles,\n",
       "\u001b[1;32m     93\u001b[0m     data\u001b[38;5;241m=\u001b[39mdata,\n",
       "\u001b[1;32m     94\u001b[0m     auth\u001b[38;5;241m=\u001b[39mauth,\n",
       "\u001b[1;32m     95\u001b[0m     response_headers\u001b[38;5;241m=\u001b[39mresponse_headers,\n",
       "\u001b[1;32m     96\u001b[0m )\n",
       "\n",
       "File \u001b[0;32m/local_disk0/.ephemeral_nfs/envs/pythonEnv-5ac1a891-a479-4c27-a277-95347ce1670a/lib/python3.11/site-packages/databricks/sdk/_base_client.py:196\u001b[0m, in \u001b[0;36m_BaseClient.do\u001b[0;34m(self, method, url, query, headers, body, raw, files, data, auth, response_headers)\u001b[0m\n",
       "\u001b[1;32m    194\u001b[0m     call \u001b[38;5;241m=\u001b[39m \u001b[38;5;28mself\u001b[39m\u001b[38;5;241m.\u001b[39m_perform\n",
       "\u001b[0;32m--> 196\u001b[0m response \u001b[38;5;241m=\u001b[39m call(\n",
       "\u001b[1;32m    197\u001b[0m     method,\n",
       "\u001b[1;32m    198\u001b[0m     url,\n",
       "\u001b[1;32m    199\u001b[0m     query\u001b[38;5;241m=\u001b[39mquery,\n",
       "\u001b[1;32m    200\u001b[0m     headers\u001b[38;5;241m=\u001b[39mheaders,\n",
       "\u001b[1;32m    201\u001b[0m     body\u001b[38;5;241m=\u001b[39mbody,\n",
       "\u001b[1;32m    202\u001b[0m     raw\u001b[38;5;241m=\u001b[39mraw,\n",
       "\u001b[1;32m    203\u001b[0m     files\u001b[38;5;241m=\u001b[39mfiles,\n",
       "\u001b[1;32m    204\u001b[0m     data\u001b[38;5;241m=\u001b[39mdata,\n",
       "\u001b[1;32m    205\u001b[0m     auth\u001b[38;5;241m=\u001b[39mauth,\n",
       "\u001b[1;32m    206\u001b[0m )\n",
       "\u001b[1;32m    208\u001b[0m resp \u001b[38;5;241m=\u001b[39m \u001b[38;5;28mdict\u001b[39m()\n",
       "\n",
       "File \u001b[0;32m/local_disk0/.ephemeral_nfs/envs/pythonEnv-5ac1a891-a479-4c27-a277-95347ce1670a/lib/python3.11/site-packages/databricks/sdk/retries.py:57\u001b[0m, in \u001b[0;36mretried.<locals>.decorator.<locals>.wrapper\u001b[0;34m(*args, **kwargs)\u001b[0m\n",
       "\u001b[1;32m     55\u001b[0m \u001b[38;5;28;01mif\u001b[39;00m retry_reason \u001b[38;5;129;01mis\u001b[39;00m \u001b[38;5;28;01mNone\u001b[39;00m:\n",
       "\u001b[1;32m     56\u001b[0m     \u001b[38;5;66;03m# raise if exception is not retryable\u001b[39;00m\n",
       "\u001b[0;32m---> 57\u001b[0m     \u001b[38;5;28;01mraise\u001b[39;00m err\n",
       "\u001b[1;32m     59\u001b[0m logger\u001b[38;5;241m.\u001b[39mdebug(\u001b[38;5;124mf\u001b[39m\u001b[38;5;124m\"\u001b[39m\u001b[38;5;124mRetrying: \u001b[39m\u001b[38;5;132;01m{\u001b[39;00mretry_reason\u001b[38;5;132;01m}\u001b[39;00m\u001b[38;5;124m (sleeping ~\u001b[39m\u001b[38;5;132;01m{\u001b[39;00msleep\u001b[38;5;132;01m}\u001b[39;00m\u001b[38;5;124ms)\u001b[39m\u001b[38;5;124m\"\u001b[39m)\n",
       "\n",
       "File \u001b[0;32m/local_disk0/.ephemeral_nfs/envs/pythonEnv-5ac1a891-a479-4c27-a277-95347ce1670a/lib/python3.11/site-packages/databricks/sdk/retries.py:36\u001b[0m, in \u001b[0;36mretried.<locals>.decorator.<locals>.wrapper\u001b[0;34m(*args, **kwargs)\u001b[0m\n",
       "\u001b[1;32m     35\u001b[0m \u001b[38;5;28;01mtry\u001b[39;00m:\n",
       "\u001b[0;32m---> 36\u001b[0m     \u001b[38;5;28;01mreturn\u001b[39;00m func(\u001b[38;5;241m*\u001b[39margs, \u001b[38;5;241m*\u001b[39m\u001b[38;5;241m*\u001b[39mkwargs)\n",
       "\u001b[1;32m     37\u001b[0m \u001b[38;5;28;01mexcept\u001b[39;00m \u001b[38;5;167;01mException\u001b[39;00m \u001b[38;5;28;01mas\u001b[39;00m err:\n",
       "\n",
       "File \u001b[0;32m/local_disk0/.ephemeral_nfs/envs/pythonEnv-5ac1a891-a479-4c27-a277-95347ce1670a/lib/python3.11/site-packages/databricks/sdk/_base_client.py:298\u001b[0m, in \u001b[0;36m_BaseClient._perform\u001b[0;34m(self, method, url, query, headers, body, raw, files, data, auth)\u001b[0m\n",
       "\u001b[1;32m    297\u001b[0m \u001b[38;5;28;01mif\u001b[39;00m error \u001b[38;5;129;01mis\u001b[39;00m \u001b[38;5;129;01mnot\u001b[39;00m \u001b[38;5;28;01mNone\u001b[39;00m:\n",
       "\u001b[0;32m--> 298\u001b[0m     \u001b[38;5;28;01mraise\u001b[39;00m error \u001b[38;5;28;01mfrom\u001b[39;00m \u001b[38;5;28;01mNone\u001b[39;00m\n",
       "\u001b[1;32m    300\u001b[0m \u001b[38;5;28;01mreturn\u001b[39;00m response\n",
       "\n",
       "\u001b[0;31mBadRequest\u001b[0m: Cannot create 2+ served entities with the same name under the same endpoint config version. You will need to specify served entity names if the given or default names (<model_name>-<model_version>) collide.\n",
       "\n",
       "During handling of the above exception, another exception occurred:\n",
       "\n",
       "\u001b[0;31mValueError\u001b[0m                                Traceback (most recent call last)\n",
       "File \u001b[0;32m<command-1228802399360145>, line 8\u001b[0m\n",
       "\u001b[1;32m      5\u001b[0m UC_MODEL_VERSION \u001b[38;5;241m=\u001b[39m \u001b[38;5;124m\"\u001b[39m\u001b[38;5;124m6\u001b[39m\u001b[38;5;124m\"\u001b[39m\n",
       "\u001b[1;32m      7\u001b[0m \u001b[38;5;66;03m# Deploy to endpoint\u001b[39;00m\n",
       "\u001b[0;32m----> 8\u001b[0m deployment_info \u001b[38;5;241m=\u001b[39m agents\u001b[38;5;241m.\u001b[39mdeploy(\n",
       "\u001b[1;32m      9\u001b[0m     UC_MODEL_NAME,\n",
       "\u001b[1;32m     10\u001b[0m     UC_MODEL_VERSION,\n",
       "\u001b[1;32m     11\u001b[0m     \u001b[38;5;66;03m#endpoint_name=\"agents_main-retail_media-campbells_genai_ey\",  # optional but good to specify\u001b[39;00m\n",
       "\u001b[1;32m     12\u001b[0m     tags\u001b[38;5;241m=\u001b[39m{\u001b[38;5;124m\"\u001b[39m\u001b[38;5;124mendpointSource\u001b[39m\u001b[38;5;124m\"\u001b[39m: \u001b[38;5;124m\"\u001b[39m\u001b[38;5;124mcampbells_deploy_ey\u001b[39m\u001b[38;5;124m\"\u001b[39m},\n",
       "\u001b[1;32m     13\u001b[0m     environment_vars\u001b[38;5;241m=\u001b[39m{\n",
       "\u001b[1;32m     14\u001b[0m         \u001b[38;5;124m\"\u001b[39m\u001b[38;5;124mDATABRICKS_GENIE_PAT\u001b[39m\u001b[38;5;124m\"\u001b[39m: \u001b[38;5;124m\"\u001b[39m\u001b[38;5;124mdapib28245cd2ac1c1a94f8a381bee8de651-3\u001b[39m\u001b[38;5;124m\"\u001b[39m\n",
       "\u001b[1;32m     15\u001b[0m             \u001b[38;5;66;03m#f\"{{{{secrets/{secret_scope_name}/{secret_key_name}}}}}\"\u001b[39;00m\n",
       "\u001b[1;32m     16\u001b[0m     }\n",
       "\u001b[1;32m     17\u001b[0m )\n",
       "\u001b[1;32m     19\u001b[0m \u001b[38;5;28mprint\u001b[39m(\u001b[38;5;124m\"\u001b[39m\u001b[38;5;124m✅ Endpoint deployed at:\u001b[39m\u001b[38;5;124m\"\u001b[39m, deployment_info\u001b[38;5;241m.\u001b[39mendpoint_url)\n",
       "\n",
       "File \u001b[0;32m/local_disk0/.ephemeral_nfs/envs/pythonEnv-5ac1a891-a479-4c27-a277-95347ce1670a/lib/python3.11/site-packages/databricks/agents/deployments.py:746\u001b[0m, in \u001b[0;36mdeploy\u001b[0;34m(model_name, model_version, scale_to_zero, environment_vars, instance_profile_arn, tags, workload_size, endpoint_name, budget_policy_id, **kwargs)\u001b[0m\n",
       "\u001b[1;32m    744\u001b[0m \u001b[38;5;28;01mexcept\u001b[39;00m BadRequest \u001b[38;5;28;01mas\u001b[39;00m e:\n",
       "\u001b[1;32m    745\u001b[0m     \u001b[38;5;28;01mif\u001b[39;00m \u001b[38;5;124m\"\u001b[39m\u001b[38;5;124mCannot create 2+ served entities\u001b[39m\u001b[38;5;124m\"\u001b[39m \u001b[38;5;129;01min\u001b[39;00m \u001b[38;5;28mstr\u001b[39m(e):\n",
       "\u001b[0;32m--> 746\u001b[0m         \u001b[38;5;28;01mraise\u001b[39;00m \u001b[38;5;167;01mValueError\u001b[39;00m(\n",
       "\u001b[1;32m    747\u001b[0m             \u001b[38;5;124mf\u001b[39m\u001b[38;5;124m\"\u001b[39m\u001b[38;5;124mEndpoint \u001b[39m\u001b[38;5;132;01m{\u001b[39;00mendpoint_name\u001b[38;5;132;01m}\u001b[39;00m\u001b[38;5;124m already serves model \u001b[39m\u001b[38;5;132;01m{\u001b[39;00mmodel_name\u001b[38;5;132;01m}\u001b[39;00m\u001b[38;5;124m, version \u001b[39m\u001b[38;5;132;01m{\u001b[39;00mmodel_version\u001b[38;5;132;01m}\u001b[39;00m\u001b[38;5;124m.\u001b[39m\u001b[38;5;124m\"\u001b[39m\n",
       "\u001b[1;32m    748\u001b[0m         )\n",
       "\u001b[1;32m    749\u001b[0m     \u001b[38;5;28;01melse\u001b[39;00m:\n",
       "\u001b[1;32m    750\u001b[0m         \u001b[38;5;28;01mraise\u001b[39;00m e\n",
       "\n",
       "\u001b[0;31mValueError\u001b[0m: Endpoint agents_main-retail_media-campbells_genai_versionFinal already serves model main.retail_media.campbells_genai_versionFinal, version 6."
      ]
     },
     "metadata": {
      "application/vnd.databricks.v1+output": {
       "addedWidgets": {},
       "arguments": {},
       "datasetInfos": [],
       "jupyterProps": {
        "ename": "ValueError",
        "evalue": "Endpoint agents_main-retail_media-campbells_genai_versionFinal already serves model main.retail_media.campbells_genai_versionFinal, version 6."
       },
       "metadata": {
        "errorSummary": "Command skipped"
       },
       "removedWidgets": [],
       "sqlProps": null,
       "stackFrames": [
        "\u001b[0;31m---------------------------------------------------------------------------\u001b[0m",
        "\u001b[0;31mBadRequest\u001b[0m                                Traceback (most recent call last)",
        "File \u001b[0;32m/local_disk0/.ephemeral_nfs/envs/pythonEnv-5ac1a891-a479-4c27-a277-95347ce1670a/lib/python3.11/site-packages/databricks/agents/deployments.py:728\u001b[0m, in \u001b[0;36mdeploy\u001b[0;34m(model_name, model_version, scale_to_zero, environment_vars, instance_profile_arn, tags, workload_size, endpoint_name, budget_policy_id, **kwargs)\u001b[0m\n\u001b[1;32m    723\u001b[0m \u001b[38;5;28;01mtry\u001b[39;00m:\n\u001b[1;32m    724\u001b[0m     \u001b[38;5;66;03m# Here we don't need to update the ai-gateway config since using the put_ai_gateway throws an error\u001b[39;00m\n\u001b[1;32m    725\u001b[0m     \u001b[38;5;66;03m# \"Inference tables is already enabled\". Also the ai-gateway is never part of the pending config,\u001b[39;00m\n\u001b[1;32m    726\u001b[0m     \u001b[38;5;66;03m# it is associated with the endpoint directly.\u001b[39;00m\n\u001b[1;32m    727\u001b[0m     \u001b[38;5;66;03m# Read https://github.com/databricks-eng/universe/pull/874814#discussion_r1920845945 for more info\u001b[39;00m\n\u001b[0;32m--> 728\u001b[0m     w\u001b[38;5;241m.\u001b[39mserving_endpoints\u001b[38;5;241m.\u001b[39mupdate_config(\n\u001b[1;32m    729\u001b[0m         name\u001b[38;5;241m=\u001b[39mendpoint_name,\n\u001b[1;32m    730\u001b[0m         served_entities\u001b[38;5;241m=\u001b[39mupdated_served_models,\n\u001b[1;32m    731\u001b[0m         traffic_config\u001b[38;5;241m=\u001b[39mupdated_traffic_config,\n\u001b[1;32m    732\u001b[0m         auto_capture_config\u001b[38;5;241m=\u001b[39mconfig\u001b[38;5;241m.\u001b[39mauto_capture_config,\n\u001b[1;32m    733\u001b[0m     )\n\u001b[1;32m    734\u001b[0m \u001b[38;5;28;01mexcept\u001b[39;00m ResourceConflict:\n",
        "File \u001b[0;32m/local_disk0/.ephemeral_nfs/envs/pythonEnv-5ac1a891-a479-4c27-a277-95347ce1670a/lib/python3.11/site-packages/databricks/sdk/service/serving.py:4796\u001b[0m, in \u001b[0;36mServingEndpointsAPI.update_config\u001b[0;34m(self, name, auto_capture_config, served_entities, served_models, traffic_config)\u001b[0m\n\u001b[1;32m   4791\u001b[0m headers \u001b[38;5;241m=\u001b[39m {\n\u001b[1;32m   4792\u001b[0m     \u001b[38;5;124m\"\u001b[39m\u001b[38;5;124mAccept\u001b[39m\u001b[38;5;124m\"\u001b[39m: \u001b[38;5;124m\"\u001b[39m\u001b[38;5;124mapplication/json\u001b[39m\u001b[38;5;124m\"\u001b[39m,\n\u001b[1;32m   4793\u001b[0m     \u001b[38;5;124m\"\u001b[39m\u001b[38;5;124mContent-Type\u001b[39m\u001b[38;5;124m\"\u001b[39m: \u001b[38;5;124m\"\u001b[39m\u001b[38;5;124mapplication/json\u001b[39m\u001b[38;5;124m\"\u001b[39m,\n\u001b[1;32m   4794\u001b[0m }\n\u001b[0;32m-> 4796\u001b[0m op_response \u001b[38;5;241m=\u001b[39m \u001b[38;5;28mself\u001b[39m\u001b[38;5;241m.\u001b[39m_api\u001b[38;5;241m.\u001b[39mdo(\u001b[38;5;124m\"\u001b[39m\u001b[38;5;124mPUT\u001b[39m\u001b[38;5;124m\"\u001b[39m, \u001b[38;5;124mf\u001b[39m\u001b[38;5;124m\"\u001b[39m\u001b[38;5;124m/api/2.0/serving-endpoints/\u001b[39m\u001b[38;5;132;01m{\u001b[39;00mname\u001b[38;5;132;01m}\u001b[39;00m\u001b[38;5;124m/config\u001b[39m\u001b[38;5;124m\"\u001b[39m, body\u001b[38;5;241m=\u001b[39mbody, headers\u001b[38;5;241m=\u001b[39mheaders)\n\u001b[1;32m   4797\u001b[0m \u001b[38;5;28;01mreturn\u001b[39;00m Wait(\n\u001b[1;32m   4798\u001b[0m     \u001b[38;5;28mself\u001b[39m\u001b[38;5;241m.\u001b[39mwait_get_serving_endpoint_not_updating,\n\u001b[1;32m   4799\u001b[0m     response\u001b[38;5;241m=\u001b[39mServingEndpointDetailed\u001b[38;5;241m.\u001b[39mfrom_dict(op_response),\n\u001b[1;32m   4800\u001b[0m     name\u001b[38;5;241m=\u001b[39mop_response[\u001b[38;5;124m\"\u001b[39m\u001b[38;5;124mname\u001b[39m\u001b[38;5;124m\"\u001b[39m],\n\u001b[1;32m   4801\u001b[0m )\n",
        "File \u001b[0;32m/local_disk0/.ephemeral_nfs/envs/pythonEnv-5ac1a891-a479-4c27-a277-95347ce1670a/lib/python3.11/site-packages/databricks/sdk/core.py:85\u001b[0m, in \u001b[0;36mApiClient.do\u001b[0;34m(self, method, path, url, query, headers, body, raw, files, data, auth, response_headers)\u001b[0m\n\u001b[1;32m     84\u001b[0m     url \u001b[38;5;241m=\u001b[39m \u001b[38;5;124mf\u001b[39m\u001b[38;5;124m\"\u001b[39m\u001b[38;5;132;01m{\u001b[39;00m\u001b[38;5;28mself\u001b[39m\u001b[38;5;241m.\u001b[39m_cfg\u001b[38;5;241m.\u001b[39mhost\u001b[38;5;132;01m}\u001b[39;00m\u001b[38;5;132;01m{\u001b[39;00mpath\u001b[38;5;132;01m}\u001b[39;00m\u001b[38;5;124m\"\u001b[39m\n\u001b[0;32m---> 85\u001b[0m \u001b[38;5;28;01mreturn\u001b[39;00m \u001b[38;5;28mself\u001b[39m\u001b[38;5;241m.\u001b[39m_api_client\u001b[38;5;241m.\u001b[39mdo(\n\u001b[1;32m     86\u001b[0m     method\u001b[38;5;241m=\u001b[39mmethod,\n\u001b[1;32m     87\u001b[0m     url\u001b[38;5;241m=\u001b[39murl,\n\u001b[1;32m     88\u001b[0m     query\u001b[38;5;241m=\u001b[39mquery,\n\u001b[1;32m     89\u001b[0m     headers\u001b[38;5;241m=\u001b[39mheaders,\n\u001b[1;32m     90\u001b[0m     body\u001b[38;5;241m=\u001b[39mbody,\n\u001b[1;32m     91\u001b[0m     raw\u001b[38;5;241m=\u001b[39mraw,\n\u001b[1;32m     92\u001b[0m     files\u001b[38;5;241m=\u001b[39mfiles,\n\u001b[1;32m     93\u001b[0m     data\u001b[38;5;241m=\u001b[39mdata,\n\u001b[1;32m     94\u001b[0m     auth\u001b[38;5;241m=\u001b[39mauth,\n\u001b[1;32m     95\u001b[0m     response_headers\u001b[38;5;241m=\u001b[39mresponse_headers,\n\u001b[1;32m     96\u001b[0m )\n",
        "File \u001b[0;32m/local_disk0/.ephemeral_nfs/envs/pythonEnv-5ac1a891-a479-4c27-a277-95347ce1670a/lib/python3.11/site-packages/databricks/sdk/_base_client.py:196\u001b[0m, in \u001b[0;36m_BaseClient.do\u001b[0;34m(self, method, url, query, headers, body, raw, files, data, auth, response_headers)\u001b[0m\n\u001b[1;32m    194\u001b[0m     call \u001b[38;5;241m=\u001b[39m \u001b[38;5;28mself\u001b[39m\u001b[38;5;241m.\u001b[39m_perform\n\u001b[0;32m--> 196\u001b[0m response \u001b[38;5;241m=\u001b[39m call(\n\u001b[1;32m    197\u001b[0m     method,\n\u001b[1;32m    198\u001b[0m     url,\n\u001b[1;32m    199\u001b[0m     query\u001b[38;5;241m=\u001b[39mquery,\n\u001b[1;32m    200\u001b[0m     headers\u001b[38;5;241m=\u001b[39mheaders,\n\u001b[1;32m    201\u001b[0m     body\u001b[38;5;241m=\u001b[39mbody,\n\u001b[1;32m    202\u001b[0m     raw\u001b[38;5;241m=\u001b[39mraw,\n\u001b[1;32m    203\u001b[0m     files\u001b[38;5;241m=\u001b[39mfiles,\n\u001b[1;32m    204\u001b[0m     data\u001b[38;5;241m=\u001b[39mdata,\n\u001b[1;32m    205\u001b[0m     auth\u001b[38;5;241m=\u001b[39mauth,\n\u001b[1;32m    206\u001b[0m )\n\u001b[1;32m    208\u001b[0m resp \u001b[38;5;241m=\u001b[39m \u001b[38;5;28mdict\u001b[39m()\n",
        "File \u001b[0;32m/local_disk0/.ephemeral_nfs/envs/pythonEnv-5ac1a891-a479-4c27-a277-95347ce1670a/lib/python3.11/site-packages/databricks/sdk/retries.py:57\u001b[0m, in \u001b[0;36mretried.<locals>.decorator.<locals>.wrapper\u001b[0;34m(*args, **kwargs)\u001b[0m\n\u001b[1;32m     55\u001b[0m \u001b[38;5;28;01mif\u001b[39;00m retry_reason \u001b[38;5;129;01mis\u001b[39;00m \u001b[38;5;28;01mNone\u001b[39;00m:\n\u001b[1;32m     56\u001b[0m     \u001b[38;5;66;03m# raise if exception is not retryable\u001b[39;00m\n\u001b[0;32m---> 57\u001b[0m     \u001b[38;5;28;01mraise\u001b[39;00m err\n\u001b[1;32m     59\u001b[0m logger\u001b[38;5;241m.\u001b[39mdebug(\u001b[38;5;124mf\u001b[39m\u001b[38;5;124m\"\u001b[39m\u001b[38;5;124mRetrying: \u001b[39m\u001b[38;5;132;01m{\u001b[39;00mretry_reason\u001b[38;5;132;01m}\u001b[39;00m\u001b[38;5;124m (sleeping ~\u001b[39m\u001b[38;5;132;01m{\u001b[39;00msleep\u001b[38;5;132;01m}\u001b[39;00m\u001b[38;5;124ms)\u001b[39m\u001b[38;5;124m\"\u001b[39m)\n",
        "File \u001b[0;32m/local_disk0/.ephemeral_nfs/envs/pythonEnv-5ac1a891-a479-4c27-a277-95347ce1670a/lib/python3.11/site-packages/databricks/sdk/retries.py:36\u001b[0m, in \u001b[0;36mretried.<locals>.decorator.<locals>.wrapper\u001b[0;34m(*args, **kwargs)\u001b[0m\n\u001b[1;32m     35\u001b[0m \u001b[38;5;28;01mtry\u001b[39;00m:\n\u001b[0;32m---> 36\u001b[0m     \u001b[38;5;28;01mreturn\u001b[39;00m func(\u001b[38;5;241m*\u001b[39margs, \u001b[38;5;241m*\u001b[39m\u001b[38;5;241m*\u001b[39mkwargs)\n\u001b[1;32m     37\u001b[0m \u001b[38;5;28;01mexcept\u001b[39;00m \u001b[38;5;167;01mException\u001b[39;00m \u001b[38;5;28;01mas\u001b[39;00m err:\n",
        "File \u001b[0;32m/local_disk0/.ephemeral_nfs/envs/pythonEnv-5ac1a891-a479-4c27-a277-95347ce1670a/lib/python3.11/site-packages/databricks/sdk/_base_client.py:298\u001b[0m, in \u001b[0;36m_BaseClient._perform\u001b[0;34m(self, method, url, query, headers, body, raw, files, data, auth)\u001b[0m\n\u001b[1;32m    297\u001b[0m \u001b[38;5;28;01mif\u001b[39;00m error \u001b[38;5;129;01mis\u001b[39;00m \u001b[38;5;129;01mnot\u001b[39;00m \u001b[38;5;28;01mNone\u001b[39;00m:\n\u001b[0;32m--> 298\u001b[0m     \u001b[38;5;28;01mraise\u001b[39;00m error \u001b[38;5;28;01mfrom\u001b[39;00m \u001b[38;5;28;01mNone\u001b[39;00m\n\u001b[1;32m    300\u001b[0m \u001b[38;5;28;01mreturn\u001b[39;00m response\n",
        "\u001b[0;31mBadRequest\u001b[0m: Cannot create 2+ served entities with the same name under the same endpoint config version. You will need to specify served entity names if the given or default names (<model_name>-<model_version>) collide.",
        "\nDuring handling of the above exception, another exception occurred:\n",
        "\u001b[0;31mValueError\u001b[0m                                Traceback (most recent call last)",
        "File \u001b[0;32m<command-1228802399360145>, line 8\u001b[0m\n\u001b[1;32m      5\u001b[0m UC_MODEL_VERSION \u001b[38;5;241m=\u001b[39m \u001b[38;5;124m\"\u001b[39m\u001b[38;5;124m6\u001b[39m\u001b[38;5;124m\"\u001b[39m\n\u001b[1;32m      7\u001b[0m \u001b[38;5;66;03m# Deploy to endpoint\u001b[39;00m\n\u001b[0;32m----> 8\u001b[0m deployment_info \u001b[38;5;241m=\u001b[39m agents\u001b[38;5;241m.\u001b[39mdeploy(\n\u001b[1;32m      9\u001b[0m     UC_MODEL_NAME,\n\u001b[1;32m     10\u001b[0m     UC_MODEL_VERSION,\n\u001b[1;32m     11\u001b[0m     \u001b[38;5;66;03m#endpoint_name=\"agents_main-retail_media-campbells_genai_ey\",  # optional but good to specify\u001b[39;00m\n\u001b[1;32m     12\u001b[0m     tags\u001b[38;5;241m=\u001b[39m{\u001b[38;5;124m\"\u001b[39m\u001b[38;5;124mendpointSource\u001b[39m\u001b[38;5;124m\"\u001b[39m: \u001b[38;5;124m\"\u001b[39m\u001b[38;5;124mcampbells_deploy_ey\u001b[39m\u001b[38;5;124m\"\u001b[39m},\n\u001b[1;32m     13\u001b[0m     environment_vars\u001b[38;5;241m=\u001b[39m{\n\u001b[1;32m     14\u001b[0m         \u001b[38;5;124m\"\u001b[39m\u001b[38;5;124mDATABRICKS_GENIE_PAT\u001b[39m\u001b[38;5;124m\"\u001b[39m: \u001b[38;5;124m\"\u001b[39m\u001b[38;5;124mdapib28245cd2ac1c1a94f8a381bee8de651-3\u001b[39m\u001b[38;5;124m\"\u001b[39m\n\u001b[1;32m     15\u001b[0m             \u001b[38;5;66;03m#f\"{{{{secrets/{secret_scope_name}/{secret_key_name}}}}}\"\u001b[39;00m\n\u001b[1;32m     16\u001b[0m     }\n\u001b[1;32m     17\u001b[0m )\n\u001b[1;32m     19\u001b[0m \u001b[38;5;28mprint\u001b[39m(\u001b[38;5;124m\"\u001b[39m\u001b[38;5;124m✅ Endpoint deployed at:\u001b[39m\u001b[38;5;124m\"\u001b[39m, deployment_info\u001b[38;5;241m.\u001b[39mendpoint_url)\n",
        "File \u001b[0;32m/local_disk0/.ephemeral_nfs/envs/pythonEnv-5ac1a891-a479-4c27-a277-95347ce1670a/lib/python3.11/site-packages/databricks/agents/deployments.py:746\u001b[0m, in \u001b[0;36mdeploy\u001b[0;34m(model_name, model_version, scale_to_zero, environment_vars, instance_profile_arn, tags, workload_size, endpoint_name, budget_policy_id, **kwargs)\u001b[0m\n\u001b[1;32m    744\u001b[0m \u001b[38;5;28;01mexcept\u001b[39;00m BadRequest \u001b[38;5;28;01mas\u001b[39;00m e:\n\u001b[1;32m    745\u001b[0m     \u001b[38;5;28;01mif\u001b[39;00m \u001b[38;5;124m\"\u001b[39m\u001b[38;5;124mCannot create 2+ served entities\u001b[39m\u001b[38;5;124m\"\u001b[39m \u001b[38;5;129;01min\u001b[39;00m \u001b[38;5;28mstr\u001b[39m(e):\n\u001b[0;32m--> 746\u001b[0m         \u001b[38;5;28;01mraise\u001b[39;00m \u001b[38;5;167;01mValueError\u001b[39;00m(\n\u001b[1;32m    747\u001b[0m             \u001b[38;5;124mf\u001b[39m\u001b[38;5;124m\"\u001b[39m\u001b[38;5;124mEndpoint \u001b[39m\u001b[38;5;132;01m{\u001b[39;00mendpoint_name\u001b[38;5;132;01m}\u001b[39;00m\u001b[38;5;124m already serves model \u001b[39m\u001b[38;5;132;01m{\u001b[39;00mmodel_name\u001b[38;5;132;01m}\u001b[39;00m\u001b[38;5;124m, version \u001b[39m\u001b[38;5;132;01m{\u001b[39;00mmodel_version\u001b[38;5;132;01m}\u001b[39;00m\u001b[38;5;124m.\u001b[39m\u001b[38;5;124m\"\u001b[39m\n\u001b[1;32m    748\u001b[0m         )\n\u001b[1;32m    749\u001b[0m     \u001b[38;5;28;01melse\u001b[39;00m:\n\u001b[1;32m    750\u001b[0m         \u001b[38;5;28;01mraise\u001b[39;00m e\n",
        "\u001b[0;31mValueError\u001b[0m: Endpoint agents_main-retail_media-campbells_genai_versionFinal already serves model main.retail_media.campbells_genai_versionFinal, version 6."
       ],
       "type": "baseError"
      }
     },
     "output_type": "display_data"
    }
   ],
   "source": [
    "# use this cell to trigger an error to stop. because we need to change the model_uri for the next cell, before running the next cell\n",
    "aaa"
   ]
  },
  {
   "cell_type": "code",
   "execution_count": 0,
   "metadata": {
    "application/vnd.databricks.v1+cell": {
     "cellMetadata": {
      "byteLimit": 2048000,
      "rowLimit": 10000
     },
     "inputWidgets": {},
     "nuid": "c79d75d5-93b5-4846-8f48-5f2fcd1f4345",
     "showTitle": false,
     "tableResultSettingsMap": {},
     "title": ""
    }
   },
   "outputs": [
    {
     "data": {
      "application/vnd.jupyter.widget-view+json": {
       "model_id": "d75c5c7315bc4061b990afaa4573d55d",
       "version_major": 2,
       "version_minor": 0
      },
      "text/plain": [
       "Downloading artifacts:   0%|          | 0/15 [00:00<?, ?it/s]"
      ]
     },
     "metadata": {},
     "output_type": "display_data"
    },
    {
     "name": "stderr",
     "output_type": "stream",
     "text": [
      "2025/05/11 03:49:33 WARNING mlflow.utils.requirements_utils: Detected one or more mismatches between the model's dependencies and the current Python environment:\n",
      " - mlflow (current: 2.22.0, required: mlflow==2.21.2)\n",
      "To fix the mismatches, call `mlflow.pyfunc.get_model_dependencies(model_uri)` to fetch the model's environment and install dependencies using the resulting environment file.\n"
     ]
    },
    {
     "name": "stdout",
     "output_type": "stream",
     "text": [
      "Final Answer:\n",
      " # Search Campaign Investment Strategy for Maximum Impressions\n",
      "\n",
      "## Primary Keywords for Impression Maximization\n",
      "Based on the search term data analysis, I recommend focusing your additional $1.4M budget on these high-impression keywords:\n",
      "\n",
      "1. **\"goldfish\"** - Generates over 7.1M impressions with efficient spend ratio\n",
      "2. **\"goldfish crackers\"** - Delivers 3M+ impressions, strong brand-specific search\n",
      "3. **\"goldfish crackers individual bags\"** - 2.3M+ impressions with product specificity\n",
      "4. **\"snacks\"** - Nearly 2M impressions with excellent efficiency\n",
      "\n",
      "## Secondary Expansion Opportunities\n",
      "These terms offer additional impression volume potential:\n",
      "- **\"goldfish snack packs\"** (850K+ impressions)\n",
      "- **\"snacks variety pack for adults\"** (840K+ impressions)\n",
      "- **\"crackers\"** and **\"gold fish\"** (600K+ impressions each)\n",
      "\n",
      "## Budget Allocation Recommendation\n",
      "Distribute your $1.4M investment proportionally to impression potential, with approximately:\n",
      "- 40% to \"goldfish\" and variations\n",
      "- 30% to \"goldfish crackers\" specific terms\n",
      "- 20% to \"snacks\" category terms\n",
      "- 10% to secondary expansion terms\n",
      "\n",
      "This allocation strategy maximizes impression volume while maintaining campaign efficiency across your search portfolio.\n"
     ]
    },
    {
     "data": {
      "application/databricks.mlflow.trace": "[\"tr-321410651b7f4a3892ecbdfd02354db3\", \"tr-cd9499b22018476c975d3da3b84626b9\"]",
      "text/plain": [
       "[Trace(request_id=tr-321410651b7f4a3892ecbdfd02354db3), Trace(request_id=tr-cd9499b22018476c975d3da3b84626b9)]"
      ]
     },
     "metadata": {},
     "output_type": "display_data"
    }
   ],
   "source": [
    "import mlflow\n",
    "from chat_model import LangGraphChatAgent\n",
    "from mlflow.types.agent import ChatAgentMessage\n",
    "\n",
    "AGENT = mlflow.pyfunc.load_model(\"??????????????????????\") # copy paste the model_uri from the \"Log Model\" cell output \n",
    "response = AGENT.predict({\n",
    "    \"messages\": [\n",
    "        {\n",
    "            \"role\": \"user\",\n",
    "            \"content\": \"If I want to invest an additional $1.4m on search campaigns, and my main goal is to attract impressions, which keywords should I target, please refer to search term level?\"\n",
    "                #\"I have 100K budget for back to school this year. Which keywords should I invest in?\"\n",
    "        }\n",
    "    ]\n",
    "})\n",
    "print(\"Final Answer:\\n\", response[\"messages\"][-1][\"content\"])\n",
    "\n"
   ]
  },
  {
   "cell_type": "code",
   "execution_count": 0,
   "metadata": {
    "application/vnd.databricks.v1+cell": {
     "cellMetadata": {
      "byteLimit": 2048000,
      "rowLimit": 10000
     },
     "inputWidgets": {},
     "nuid": "2a5760b3-667f-4a75-ba47-1ed7e940c0e1",
     "showTitle": false,
     "tableResultSettingsMap": {},
     "title": ""
    }
   },
   "outputs": [],
   "source": []
  }
 ],
 "metadata": {
  "application/vnd.databricks.v1+notebook": {
   "computePreferences": null,
   "dashboards": [],
   "environmentMetadata": {
    "base_environment": "",
    "environment_version": "2"
   },
   "inputWidgetPreferences": null,
   "language": "python",
   "notebookMetadata": {
    "mostRecentlyExecutedCommandWithImplicitDF": {
     "commandId": 5019452098699434,
     "dataframes": [
      "_sqldf"
     ]
    },
    "pythonIndentUnit": 4
   },
   "notebookName": "interactive_chat",
   "widgets": {}
  },
  "language_info": {
   "name": "python"
  }
 },
 "nbformat": 4,
 "nbformat_minor": 0
}
